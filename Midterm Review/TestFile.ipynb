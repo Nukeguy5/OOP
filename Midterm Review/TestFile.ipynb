{
 "cells": [
  {
   "cell_type": "code",
   "execution_count": 1,
   "metadata": {},
   "outputs": [],
   "source": [
    "from midterm import Angle\n",
    "\n",
    "angle1 = Angle(45)\n",
    "angle2 = Angle(90)\n"
   ]
  },
  {
   "cell_type": "code",
   "execution_count": 2,
   "metadata": {},
   "outputs": [
    {
     "name": "stdout",
     "output_type": "stream",
     "text": [
      "45\n",
      "90\n"
     ]
    }
   ],
   "source": [
    "# test __str__\n",
    "print(angle1)\n",
    "print(angle2)"
   ]
  },
  {
   "cell_type": "code",
   "execution_count": 8,
   "metadata": {},
   "outputs": [
    {
     "name": "stdout",
     "output_type": "stream",
     "text": [
      "45\n",
      "45\n",
      "45\n",
      "45\n"
     ]
    }
   ],
   "source": [
    "# is_valid_range\n",
    "print(angle1 + 360)\n",
    "print(angle1 - 360)\n",
    "print(angle1 + 720)\n",
    "print(angle1 - 720)\n"
   ]
  },
  {
   "cell_type": "code",
   "execution_count": 12,
   "metadata": {},
   "outputs": [
    {
     "ename": "SyntaxError",
     "evalue": "invalid syntax (<ipython-input-12-d2fa0f04957c>, line 5)",
     "output_type": "error",
     "traceback": [
      "\u001b[0;36m  File \u001b[0;32m\"<ipython-input-12-d2fa0f04957c>\"\u001b[0;36m, line \u001b[0;32m5\u001b[0m\n\u001b[0;31m    print(angle += 23)\u001b[0m\n\u001b[0m                 ^\u001b[0m\n\u001b[0;31mSyntaxError\u001b[0m\u001b[0;31m:\u001b[0m invalid syntax\n"
     ]
    }
   ],
   "source": [
    "# __add__ and __radd__\n",
    "print(angle1 + angle2)\n",
    "print(angle1 + 23)\n",
    "print(23 + angle1)"
   ]
  },
  {
   "cell_type": "code",
   "execution_count": 10,
   "metadata": {},
   "outputs": [
    {
     "name": "stdout",
     "output_type": "stream",
     "text": [
      "315\n",
      "315\n",
      "45\n"
     ]
    }
   ],
   "source": [
    "# sub and rsub\n",
    "print(angle1 - angle2)\n",
    "print(angle1 - 90)\n",
    "print(90 - angle1)"
   ]
  },
  {
   "cell_type": "code",
   "execution_count": 11,
   "metadata": {},
   "outputs": [
    {
     "name": "stdout",
     "output_type": "stream",
     "text": [
      "90\n",
      "135\n",
      "135\n"
     ]
    }
   ],
   "source": [
    "# mul and rmul\n",
    "print(angle1*angle2)\n",
    "print(angle1*3)\n",
    "print(3*angle1)"
   ]
  },
  {
   "cell_type": "code",
   "execution_count": 16,
   "metadata": {},
   "outputs": [
    {
     "name": "stdout",
     "output_type": "stream",
     "text": [
      "0.5\n",
      "2.0\n",
      "0.5\n"
     ]
    }
   ],
   "source": [
    "# truediv and rtruediv\n",
    "print(angle1/angle2)\n",
    "print(90/angle1)\n",
    "print(angle1/90)"
   ]
  },
  {
   "cell_type": "code",
   "execution_count": 17,
   "metadata": {},
   "outputs": [
    {
     "name": "stdout",
     "output_type": "stream",
     "text": [
      "0\n",
      "2\n",
      "0\n"
     ]
    }
   ],
   "source": [
    "# floordiv and rfloordiv\n",
    "print(angle1//angle2)\n",
    "print(90//angle1)\n",
    "print(angle1//90)"
   ]
  },
  {
   "cell_type": "code",
   "execution_count": 23,
   "metadata": {},
   "outputs": [
    {
     "name": "stdout",
     "output_type": "stream",
     "text": [
      "False\n",
      "True\n",
      "False\n",
      "True\n",
      "\n",
      "True\n",
      "False\n",
      "True\n",
      "False\n",
      "\n",
      "45\n",
      "True\n",
      "True\n",
      "True\n",
      "True\n",
      "\n",
      "False\n",
      "True\n",
      "False\n",
      "True\n",
      "\n",
      "False\n",
      "False\n",
      "False\n",
      "False\n",
      "\n"
     ]
    }
   ],
   "source": [
    "# comparisons\n",
    "angle3 = Angle(45)\n",
    "\n",
    "\n",
    "# neq\n",
    "print(angle1 != angle3)\n",
    "print(angle1 != angle2)\n",
    "print(angle1 != 45)\n",
    "print(angle1 != 90)\n",
    "print()\n",
    "\n",
    "# le\n",
    "print(angle1 <= angle3)\n",
    "print(angle1 <= angle2)\n",
    "print(angle1 <= 45)\n",
    "print(angle1 <= 90)\n",
    "print()\n",
    "\n",
    "# ge\n",
    "print(angle1)\n",
    "print(angle1 >= angle3)\n",
    "print(angle1 >= angle2)\n",
    "print(angle1 >= 45)\n",
    "print(angle1 >= 90)\n",
    "print()\n",
    "\n",
    "# lt\n",
    "print(angle1 > angle3)\n",
    "print(angle1 > angle2)\n",
    "print(angle1 > 45)\n",
    "print(angle1 > 90)\n",
    "print()\n",
    "\n",
    "# gt\n",
    "print(angle1 < angle3)\n",
    "print(angle1 < angle2)\n",
    "print(angle1 < 45)\n",
    "print(angle1 < 90)\n",
    "print()"
   ]
  },
  {
   "cell_type": "code",
   "execution_count": null,
   "metadata": {
    "collapsed": true
   },
   "outputs": [],
   "source": []
  }
 ],
 "metadata": {
  "kernelspec": {
   "display_name": "Python 3",
   "language": "python",
   "name": "python3"
  },
  "language_info": {
   "codemirror_mode": {
    "name": "ipython",
    "version": 3
   },
   "file_extension": ".py",
   "mimetype": "text/x-python",
   "name": "python",
   "nbconvert_exporter": "python",
   "pygments_lexer": "ipython3",
   "version": "3.6.1"
  }
 },
 "nbformat": 4,
 "nbformat_minor": 2
}
