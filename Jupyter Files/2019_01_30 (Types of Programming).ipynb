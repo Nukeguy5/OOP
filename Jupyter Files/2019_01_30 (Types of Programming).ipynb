{
 "cells": [
  {
   "cell_type": "code",
   "execution_count": 1,
   "metadata": {},
   "outputs": [
    {
     "name": "stdout",
     "output_type": "stream",
     "text": [
      "[2, 4, 6, 8]\n"
     ]
    }
   ],
   "source": [
    "# Double all numbers in the list and print it\n",
    "\n",
    "# Imperative\n",
    "\n",
    "numbers = [1, 2, 3, 4]\n",
    "for i in range(len(numbers)):\n",
    "    numbers[i] = numbers[i] + numbers[i]\n",
    "print(numbers)"
   ]
  },
  {
   "cell_type": "code",
   "execution_count": 2,
   "metadata": {},
   "outputs": [
    {
     "name": "stdout",
     "output_type": "stream",
     "text": [
      "[4, 8, 12, 16]\n"
     ]
    }
   ],
   "source": [
    "# Imperative - Procedural\n",
    "\n",
    "def ListDouble(list):\n",
    "    for i in range(len(list)):\n",
    "        list[i] = list[i] + list[i]\n",
    "    print(list)\n",
    "    \n",
    "ListDouble(numbers)"
   ]
  },
  {
   "cell_type": "markdown",
   "metadata": {},
   "source": [
    "#### Declarative\n",
    "   - Focus on what the program does\n",
    "   - \"Black Box\": Make it so future users don't have to know what happens, but they know the output.\n",
    "\n",
    "#### Declarative - Functional\n",
    "\n",
    "*Mutable*: Data whose content can be change(list, dictionaries, classes)\n",
    "\n",
    "*Immutable*: Data that cannot be changed (strings, numbers, tuples)\n",
    "    - Python allows for \"changes\" to data by making copies and replacing it"
   ]
  },
  {
   "cell_type": "code",
   "execution_count": 3,
   "metadata": {},
   "outputs": [
    {
     "name": "stdout",
     "output_type": "stream",
     "text": [
      "[2, 4, 6, 8]\n"
     ]
    }
   ],
   "source": [
    "# Declarative - Functional\n",
    "\n",
    "numbers = (1, 2, 3, 4)\n",
    "\n",
    "print(list(map(lambda x: x + x, numbers)))"
   ]
  },
  {
   "cell_type": "code",
   "execution_count": 10,
   "metadata": {},
   "outputs": [
    {
     "name": "stdout",
     "output_type": "stream",
     "text": [
      "[2, 4, 6, 8]\n"
     ]
    }
   ],
   "source": [
    "# Object Oriented\n",
    "\n",
    "class MyList:\n",
    "    def __init__(self, my_list):\n",
    "        self.my_list = my_list\n",
    "        \n",
    "    def do_double(self):\n",
    "        for i in range(len(self.my_list)):\n",
    "            self.my_list[i] = self.my_list[i]*2\n",
    "        \n",
    "    def do_print(self):\n",
    "        print(self.my_list)\n",
    "        \n",
    "numbers = [1, 2, 3, 4]\n",
    "dlist = MyList(numbers)\n",
    "dlist.do_double()\n",
    "dlist.do_print()"
   ]
  },
  {
   "cell_type": "code",
   "execution_count": 2,
   "metadata": {},
   "outputs": [],
   "source": [
    "from ui import *\n",
    "\n",
    "root = Tk()\n",
    "\n",
    "f = UIFrame(root=root, bd=50)\n",
    "\n",
    "l = UILabel(text=\"Hello\")\n",
    "b = UIButton(l.SetText, data=\"Hello World\", text=\"Change\")\n",
    "\n",
    "f.Add(b, side=LEFT, color='red')\n",
    "f.Add(l, side=LEFT, color='green')\n",
    "\n",
    "# pass in a border for a frame - DONE\n",
    "# pass in color and font for Label and Button - \n",
    "\n",
    "root.mainloop()\n"
   ]
  }
 ],
 "metadata": {
  "kernelspec": {
   "display_name": "Python 3",
   "language": "python",
   "name": "python3"
  },
  "language_info": {
   "codemirror_mode": {
    "name": "ipython",
    "version": 3
   },
   "file_extension": ".py",
   "mimetype": "text/x-python",
   "name": "python",
   "nbconvert_exporter": "python",
   "pygments_lexer": "ipython3",
   "version": "3.6.1"
  }
 },
 "nbformat": 4,
 "nbformat_minor": 2
}
