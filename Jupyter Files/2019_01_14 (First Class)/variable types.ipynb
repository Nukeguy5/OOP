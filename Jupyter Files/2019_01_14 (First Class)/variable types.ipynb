{
 "cells": [
  {
   "cell_type": "code",
   "execution_count": 1,
   "metadata": {
    "scrolled": true
   },
   "outputs": [
    {
     "name": "stdout",
     "output_type": "stream",
     "text": [
      "int: 9\n",
      "float: 9.2\n",
      "complex: (1+2j)\n",
      "complex real part: 1.0\n",
      "complex imaginary part: 2.0\n",
      "Hello World!\n"
     ]
    }
   ],
   "source": [
    "# Simple variable types\n",
    "\n",
    "# int\n",
    "i = 9\n",
    "print(f\"int: {i}\")\n",
    "\n",
    "# float\n",
    "f = 9.2\n",
    "print(f\"float: {f}\")\n",
    "\n",
    "# complex\n",
    "c = 1 + 2j\n",
    "print(f\"complex: {c}\")\n",
    "print(f\"complex real part: {c.real}\")\n",
    "print(f\"complex imaginary part: {c.imag}\")\n",
    "\n",
    "# string\n",
    "s = \"Hello World!\"\n",
    "print(s);"
   ]
  },
  {
   "cell_type": "code",
   "execution_count": 2,
   "metadata": {},
   "outputs": [
    {
     "name": "stdout",
     "output_type": "stream",
     "text": [
      "list: [1, 'a', 2.3]\n",
      "list element 0: 1\n",
      "list element 1: a\n",
      "list last element: 2.3\n",
      "list first 2 elements: [1, 'a']\n",
      "list length: 3\n",
      "list after append: [1, 'a', 2.3, (4+5j)]\n",
      "list after insert: [1, 'i', 'a', 2.3, (4+5j)]\n",
      "list after del: [1, 'i', 2.3, (4+5j)]\n",
      "tuple: (1, 'a', 2.3)\n"
     ]
    }
   ],
   "source": [
    "# List variable types\n",
    "\n",
    "# list\n",
    "l = [1, \"a\", 2.3]\n",
    "print(f\"list: {l}\")\n",
    "print(f\"list element 0: {l[0]}\")\n",
    "print(f\"list element 1: {l[1]}\")\n",
    "print(f\"list last element: {l[-1]}\")\n",
    "print(f\"list first 2 elements: {l[0:2]}\")\n",
    "\n",
    "print(f\"list length: {len(l)}\")\n",
    "l.append(4+5j)\n",
    "print(f\"list after append: {l}\")\n",
    "l.insert(1, \"i\")\n",
    "print(f\"list after insert: {l}\")\n",
    "del l[2]\n",
    "print(f\"list after del: {l}\")\n",
    "\n",
    "# tuple - like a list except you can't change it\n",
    "t = (1, \"a\", 2.3)\n",
    "print(f\"tuple: {t}\")"
   ]
  },
  {
   "cell_type": "code",
   "execution_count": 3,
   "metadata": {},
   "outputs": [
    {
     "name": "stdout",
     "output_type": "stream",
     "text": [
      "dictionary: {'myint': 1, 'mystring': 'a', 'myfloat': 2.3}\n",
      "dictionary value called \"myint\": 1\n",
      "dictionary value called \"mystring\": a\n",
      "dictionary value called \"myfloat\": 2.3\n"
     ]
    }
   ],
   "source": [
    "# The dictionary type\n",
    "\n",
    "d = {\"myint\" : 1, \"mystring\" : \"a\", \"myfloat\" : 2.3}\n",
    "print(f\"dictionary: {d}\")\n",
    "print(f\"dictionary value called \\\"myint\\\": {d['myint']}\")\n",
    "print(f\"dictionary value called \\\"mystring\\\": {d['mystring']}\")\n",
    "print(f\"dictionary value called \\\"myfloat\\\": {d['myfloat']}\")"
   ]
  },
  {
   "cell_type": "code",
   "execution_count": 6,
   "metadata": {},
   "outputs": [
    {
     "name": "stdout",
     "output_type": "stream",
     "text": [
      "string: 123\n",
      "int: 123\n",
      "to string: 123\n",
      "string: 123.4\n",
      "float: 123.4\n",
      "to string: 123.4\n"
     ]
    }
   ],
   "source": [
    "# conversions\n",
    "\n",
    "si = \"123\"\n",
    "print(\"string: \" + si)\n",
    "i = int(si)\n",
    "print(f\"int: {i}\")\n",
    "print(\"to string: \" + str(i))\n",
    "\n",
    "sf = \"123.4\"\n",
    "print(\"string: \" + sf)\n",
    "f = float(sf)\n",
    "print(f\"float: {f}\")\n",
    "print(\"to string: \" + str(f))"
   ]
  },
  {
   "cell_type": "code",
   "execution_count": null,
   "metadata": {},
   "outputs": [],
   "source": []
  }
 ],
 "metadata": {
  "kernelspec": {
   "display_name": "Python 3",
   "language": "python",
   "name": "python3"
  },
  "language_info": {
   "codemirror_mode": {
    "name": "ipython",
    "version": 3
   },
   "file_extension": ".py",
   "mimetype": "text/x-python",
   "name": "python",
   "nbconvert_exporter": "python",
   "pygments_lexer": "ipython3",
   "version": "3.6.5"
  }
 },
 "nbformat": 4,
 "nbformat_minor": 2
}
