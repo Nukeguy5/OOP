{
 "cells": [
  {
   "cell_type": "code",
   "execution_count": 9,
   "metadata": {},
   "outputs": [
    {
     "name": "stdout",
     "output_type": "stream",
     "text": [
      "a\n",
      "\n",
      "a\n",
      "\n",
      "abc\n",
      "def\n",
      "\n",
      "abc\n",
      "def\n"
     ]
    }
   ],
   "source": [
    "# String Assignment\n",
    "\n",
    "s = 'a'\n",
    "print(s)\n",
    "print()\n",
    "\n",
    "s = \"a\"\n",
    "print(s)\n",
    "print()\n",
    "\n",
    "s = '''abc\n",
    "def'''\n",
    "print(s)\n",
    "print()\n",
    "\n",
    "s = \"\"\"abc\n",
    "def\"\"\"\n",
    "print(s)"
   ]
  },
  {
   "cell_type": "code",
   "execution_count": 4,
   "metadata": {},
   "outputs": [
    {
     "name": "stdout",
     "output_type": "stream",
     "text": [
      "abcdef\n",
      "\n",
      "a, 1\n",
      "\n",
      "a, 1, a\n",
      "\n",
      "a, 1\n",
      "\n",
      "int1\n"
     ]
    }
   ],
   "source": [
    "# String Concatenation\n",
    "\n",
    "s = \"abc\" + \"def\"\n",
    "print(s)\n",
    "print()\n",
    "\n",
    "# Types of String Formatting\n",
    "\n",
    "s = \"%s, %d\" % (\"a\", 1)\n",
    "print(s)\n",
    "print()\n",
    "\n",
    "s = \"{0}, {1}, {0}\".format(\"a\", 1)\n",
    "print(s)\n",
    "print()\n",
    "\n",
    "a = \"a\"\n",
    "i = 1\n",
    "s = f\"{a}, {i}\"\n",
    "print(s)\n",
    "print()\n",
    "\n",
    "print(\"int\" + str(i))"
   ]
  },
  {
   "cell_type": "code",
   "execution_count": null,
   "metadata": {},
   "outputs": [],
   "source": []
  }
 ],
 "metadata": {
  "kernelspec": {
   "display_name": "Python 3",
   "language": "python",
   "name": "python3"
  },
  "language_info": {
   "codemirror_mode": {
    "name": "ipython",
    "version": 3
   },
   "file_extension": ".py",
   "mimetype": "text/x-python",
   "name": "python",
   "nbconvert_exporter": "python",
   "pygments_lexer": "ipython3",
   "version": "3.6.5"
  }
 },
 "nbformat": 4,
 "nbformat_minor": 2
}
