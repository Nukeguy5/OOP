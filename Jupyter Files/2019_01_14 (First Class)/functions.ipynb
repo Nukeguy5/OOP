{
 "cells": [
  {
   "cell_type": "code",
   "execution_count": 1,
   "metadata": {},
   "outputs": [
    {
     "name": "stdout",
     "output_type": "stream",
     "text": [
      "3\n",
      "abcdef\n",
      "\n",
      "Hello default\n",
      "Hello John\n",
      "Hello Cat\n"
     ]
    }
   ],
   "source": [
    "# Function Definition\n",
    "\n",
    "def foo(a, b):\n",
    "    print(a + b)\n",
    "    \n",
    "foo(1, 2)\n",
    "foo(\"abc\", \"def\")\n",
    "print()\n",
    "\n",
    "def bar(name=\"default\"):\n",
    "    print(\"Hello \" + name)\n",
    "    \n",
    "bar()\n",
    "bar(\"John\")\n",
    "bar(name=\"Cat\")"
   ]
  },
  {
   "cell_type": "code",
   "execution_count": 2,
   "metadata": {},
   "outputs": [
    {
     "name": "stdout",
     "output_type": "stream",
     "text": [
      "1\n",
      "a\n",
      "2.3\n",
      "(4+5j)\n"
     ]
    }
   ],
   "source": [
    "# Function Definition with Variable Arguments\n",
    "\n",
    "def PrintList(*args):\n",
    "    for arg in args:\n",
    "        print(arg)\n",
    "\n",
    "PrintList(1, \"a\", 2.3, 4+5j)"
   ]
  },
  {
   "cell_type": "code",
   "execution_count": null,
   "metadata": {},
   "outputs": [],
   "source": []
  }
 ],
 "metadata": {
  "kernelspec": {
   "display_name": "Python 3",
   "language": "python",
   "name": "python3"
  },
  "language_info": {
   "codemirror_mode": {
    "name": "ipython",
    "version": 3
   },
   "file_extension": ".py",
   "mimetype": "text/x-python",
   "name": "python",
   "nbconvert_exporter": "python",
   "pygments_lexer": "ipython3",
   "version": "3.6.5"
  }
 },
 "nbformat": 4,
 "nbformat_minor": 2
}
