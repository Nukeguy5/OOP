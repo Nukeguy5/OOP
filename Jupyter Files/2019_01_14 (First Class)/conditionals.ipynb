{
 "cells": [
  {
   "cell_type": "code",
   "execution_count": null,
   "metadata": {},
   "outputs": [],
   "source": [
    "a = 10\n",
    "b = 11\n",
    "c = 11\n",
    "\n",
    "if a == b:\n",
    "    print(\"a = b\")\n",
    "elif b == c:\n",
    "    print(\"b = c\")\n",
    "else:\n",
    "    print(\"not equal\")\n",
    "\n",
    "if a != b:\n",
    "    print(\"a not equal to b\")\n",
    "    \n",
    "if a > b:\n",
    "    print(\"a > b\")\n",
    "else:\n",
    "    print(\"a <= b\")"
   ]
  },
  {
   "cell_type": "code",
   "execution_count": 1,
   "metadata": {},
   "outputs": [
    {
     "name": "stdout",
     "output_type": "stream",
     "text": [
      "a < b\n",
      "2nd success\n",
      "3rd success\n"
     ]
    }
   ],
   "source": [
    "a = 10\n",
    "b = 11\n",
    "c = 11\n",
    "    \n",
    "if not a >= b:\n",
    "    print(\"a < b\")\n",
    "else:\n",
    "    print(\"a >= b\")\n",
    "\n",
    "if a > b and b > c:\n",
    "    print(\"1st success\")\n",
    "    \n",
    "if a <= b and b <= c:\n",
    "    print(\"2nd success\")\n",
    "    \n",
    "if a < b or b < c:\n",
    "    print(\"3rd success\")"
   ]
  },
  {
   "cell_type": "code",
   "execution_count": null,
   "metadata": {},
   "outputs": [],
   "source": []
  }
 ],
 "metadata": {
  "kernelspec": {
   "display_name": "Python 3",
   "language": "python",
   "name": "python3"
  },
  "language_info": {
   "codemirror_mode": {
    "name": "ipython",
    "version": 3
   },
   "file_extension": ".py",
   "mimetype": "text/x-python",
   "name": "python",
   "nbconvert_exporter": "python",
   "pygments_lexer": "ipython3",
   "version": "3.6.5"
  }
 },
 "nbformat": 4,
 "nbformat_minor": 2
}
