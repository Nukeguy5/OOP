{
 "cells": [
  {
   "cell_type": "code",
   "execution_count": 1,
   "metadata": {},
   "outputs": [
    {
     "name": "stdout",
     "output_type": "stream",
     "text": [
      "22\n",
      "21\n",
      "42\n",
      "\n",
      "4.5\n",
      "<class 'float'>\n",
      "\n",
      "1\n",
      "<class 'int'>\n",
      "\n",
      "4\n",
      "<class 'int'>\n",
      "\n",
      "256\n",
      "\n"
     ]
    }
   ],
   "source": [
    "# Operators\n",
    "\n",
    "a = 2 + 4 * 5\n",
    "print(a)\n",
    "a -= 1\n",
    "print(a)\n",
    "a *= 2\n",
    "print(a)\n",
    "print()\n",
    "\n",
    "b = 9 / 2\n",
    "print(b)\n",
    "print(type(b))\n",
    "print()\n",
    "\n",
    "c = 9 % 2\n",
    "print(c)\n",
    "print(type(c))\n",
    "print()\n",
    "\n",
    "d = 9 // 2\n",
    "print(d)\n",
    "print(type(d))\n",
    "print()\n",
    "\n",
    "e = 2 ** 8\n",
    "print(e)\n",
    "print()"
   ]
  },
  {
   "cell_type": "code",
   "execution_count": 2,
   "metadata": {},
   "outputs": [
    {
     "name": "stdout",
     "output_type": "stream",
     "text": [
      "32\n",
      "8\n",
      "16\n",
      "\n",
      "and\n",
      "1\n",
      "0\n",
      "0\n",
      "\n",
      "or\n",
      "1\n",
      "1\n",
      "0\n",
      "\n",
      "xor\n",
      "0\n",
      "1\n",
      "0\n",
      "\n"
     ]
    }
   ],
   "source": [
    "# Bitwise operators\n",
    "\n",
    "a = 16\n",
    "a = a << 1\n",
    "print(a)\n",
    "a = a >> 2\n",
    "print(a)\n",
    "a <<= 1\n",
    "print(a)\n",
    "print()\n",
    "\n",
    "b = 1\n",
    "c = 1\n",
    "d = 0\n",
    "e = 0\n",
    "\n",
    "print(\"and\")\n",
    "print(b & c)\n",
    "print(b & d)\n",
    "print(e & d)\n",
    "print()\n",
    "\n",
    "print(\"or\")\n",
    "print(b | c)\n",
    "print(b | d)\n",
    "print(e | d)\n",
    "print()\n",
    "\n",
    "print(\"xor\")\n",
    "print(b ^ c)\n",
    "print(b ^ d)\n",
    "print(e ^ d)\n",
    "print()"
   ]
  },
  {
   "cell_type": "code",
   "execution_count": 3,
   "metadata": {},
   "outputs": [
    {
     "name": "stdout",
     "output_type": "stream",
     "text": [
      "4\n"
     ]
    }
   ],
   "source": [
    "\n",
    "b = 5 # 101\n",
    "c = 4 # 100\n",
    "\n",
    "print(b & c)\n",
    "\n"
   ]
  },
  {
   "cell_type": "code",
   "execution_count": null,
   "metadata": {},
   "outputs": [],
   "source": []
  }
 ],
 "metadata": {
  "kernelspec": {
   "display_name": "Python 3",
   "language": "python",
   "name": "python3"
  },
  "language_info": {
   "codemirror_mode": {
    "name": "ipython",
    "version": 3
   },
   "file_extension": ".py",
   "mimetype": "text/x-python",
   "name": "python",
   "nbconvert_exporter": "python",
   "pygments_lexer": "ipython3",
   "version": "3.6.5"
  }
 },
 "nbformat": 4,
 "nbformat_minor": 2
}
