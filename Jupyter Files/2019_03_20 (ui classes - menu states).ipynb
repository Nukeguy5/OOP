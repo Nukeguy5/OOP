{
 "cells": [
  {
   "cell_type": "code",
   "execution_count": 3,
   "metadata": {
    "collapsed": true
   },
   "outputs": [],
   "source": [
    "\n",
    "from abc import ABC, abstractmethod\n",
    "\n",
    "class BaseState:\n",
    "    currentState = None\n",
    "    stateList = {}\n",
    "\n",
    "    @classmethod\n",
    "    def NextState(cls, name):\n",
    "        if name in cls.stateList:\n",
    "            if cls.currentState != None:\n",
    "                cls.currentState.ExitState()\n",
    "            cls.currentState = cls.stateList[name]\n",
    "            cls.currentState.EnterState()\n",
    "\n",
    "    def __init__(self, name):\n",
    "        self.name = name\n",
    "        BaseState.stateList[name] = self\n",
    "\n",
    "    @abstractmethod\n",
    "    def EnterState(self):\n",
    "        pass\n",
    "\n",
    "    @abstractmethod\n",
    "    def ExitState(self):\n",
    "        pass"
   ]
  },
  {
   "cell_type": "code",
   "execution_count": 4,
   "metadata": {},
   "outputs": [],
   "source": [
    "from ui import *\n",
    "\n",
    "root = Tk()\n",
    "\n",
    "mainFrame = UIFrame(root=root)\n",
    "\n",
    "def DoNothingForNow(value):\n",
    "    pass\n",
    "\n",
    "class MainMenu(BaseState):\n",
    "    def __init__(self):\n",
    "        BaseState.__init__(self, \"MainMenu\")\n",
    "\n",
    "    def EnterState(self):\n",
    "        global mainFrame\n",
    "        mainFrame.ShowElements(\"PlayButton\")\n",
    "        mainFrame.ShowElements(\"OptionsButton\")\n",
    "\n",
    "    def ExitState(self):\n",
    "        global mainFrame\n",
    "        mainFrame.HideElements(\"PlayButton\")\n",
    "        mainFrame.HideElements(\"OptionsButton\")\n",
    "\n",
    "class OptionMenu(BaseState):\n",
    "    def __init__(self):\n",
    "        BaseState.__init__(self, \"OptionsMenu\")\n",
    "\n",
    "    def EnterState(self):\n",
    "        global mainFrame\n",
    "        mainFrame.ShowElements(\"AudioButton\")\n",
    "        mainFrame.ShowElements(\"ToMainFromOptionsButton\")\n",
    "\n",
    "    def ExitState(self):\n",
    "        global mainFrame\n",
    "        mainFrame.HideElements(\"AudioButton\")\n",
    "        mainFrame.HideElements(\"ToMainFromOptionsButton\")\n",
    "\n",
    "MainMenu()\n",
    "OptionMenu()\n",
    "\n",
    "mainFrame.Add(UIButton(DoNothingForNow, data=None, text=\"Play\"))\n",
    "\n",
    "mainFrame.Add(UIButton(BaseState.NextState, data=\"OptionsMenu\", text=\"Options\", name=\"OptionsButton\"), hide=True)\n",
    "\n",
    "mainFrame.Add(UIButton(DoNothingForNow, data=None, text=\"Audio\", name=\"AudioButton\"), hide=True)\n",
    "\n",
    "mainFrame.Add(UIButton(BaseState.NextState, data=\"MainMenu\", text=\"Back\", name=\"ToMainFromOptionsButton\"), hide=True)\n",
    "\n",
    "BaseState.NextState(\"MainMenu\")\n",
    "\n",
    "root.mainloop()\n"
   ]
  },
  {
   "cell_type": "code",
   "execution_count": null,
   "metadata": {
    "collapsed": true
   },
   "outputs": [],
   "source": []
  }
 ],
 "metadata": {
  "kernelspec": {
   "display_name": "Python 3",
   "language": "python",
   "name": "python3"
  },
  "language_info": {
   "codemirror_mode": {
    "name": "ipython",
    "version": 3
   },
   "file_extension": ".py",
   "mimetype": "text/x-python",
   "name": "python",
   "nbconvert_exporter": "python",
   "pygments_lexer": "ipython3",
   "version": "3.6.1"
  }
 },
 "nbformat": 4,
 "nbformat_minor": 2
}
