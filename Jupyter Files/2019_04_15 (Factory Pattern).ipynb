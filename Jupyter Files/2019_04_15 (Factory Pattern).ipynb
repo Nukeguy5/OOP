{
 "cells": [
  {
   "cell_type": "code",
   "execution_count": 1,
   "metadata": {},
   "outputs": [
    {
     "name": "stdout",
     "output_type": "stream",
     "text": [
      "a cat\n",
      "a mouse\n",
      "a dog\n",
      "a mouse\n"
     ]
    }
   ],
   "source": [
    "# Object Factory\n",
    "\n",
    "class Dog():\n",
    "    def Show(self):\n",
    "        print(\"a dog\")\n",
    "\n",
    "class Cat():\n",
    "    def Show(self):\n",
    "        print(\"a cat\")\n",
    "        \n",
    "class Mouse():\n",
    "    def Show(self):\n",
    "        print(\"a mouse\")\n",
    "        \n",
    "class AnimalFactory():\n",
    "    AnimalDictionary = {\n",
    "        \"dog\": Dog,\n",
    "        \"cat\": Cat,\n",
    "        \"mouse\": Mouse\n",
    "    }\n",
    "    \n",
    "    @classmethod\n",
    "    def CreateAnimal(cls, name, *args, **kwargs):\n",
    "        if name in cls.AnimalDictionary.keys():\n",
    "            return cls.AnimalDictionary[name](*args, **kwargs)\n",
    "        else:\n",
    "            return None\n",
    "\n",
    "animalList = [\"cat\", \"mouse\", \"dog\", \"mouse\"]\n",
    "objectList = []\n",
    "\n",
    "for i in animalList:\n",
    "    objectList.append(AnimalFactory.CreateAnimal(i))\n",
    "\n",
    "for i in objectList:\n",
    "    i.Show()"
   ]
  },
  {
   "cell_type": "code",
   "execution_count": 2,
   "metadata": {},
   "outputs": [
    {
     "name": "stdout",
     "output_type": "stream",
     "text": [
      "a cat\n",
      "a mouse\n",
      "a dog\n",
      "a mouse\n"
     ]
    }
   ],
   "source": [
    "# Class Factory\n",
    "\n",
    "class Dog():\n",
    "    def Show(self):\n",
    "        print(\"a dog\")\n",
    "\n",
    "class Cat():\n",
    "    def Show(self):\n",
    "        print(\"a cat\")\n",
    "        \n",
    "class Mouse():\n",
    "    def Show(self):\n",
    "        print(\"a mouse\")\n",
    "        \n",
    "class AnimalFactory():\n",
    "    AnimalDictionary = {\n",
    "        \"dog\": Dog,\n",
    "        \"cat\": Cat,\n",
    "        \"mouse\": Mouse\n",
    "    }\n",
    "    \n",
    "    @classmethod\n",
    "    def CreateAnimalClass(cls, name):\n",
    "        if name in cls.AnimalDictionary.keys():\n",
    "            return cls.AnimalDictionary[name]\n",
    "        else:\n",
    "            return None\n",
    "\n",
    "animalList = [\"cat\", \"mouse\", \"dog\", \"mouse\"]\n",
    "classList = []\n",
    "objectList = []\n",
    "\n",
    "for i in animalList:\n",
    "    classList.append(AnimalFactory.CreateAnimalClass(i))\n",
    "    \n",
    "for i in classList:\n",
    "    objectList.append(i())\n",
    "\n",
    "for i in objectList:\n",
    "    i.Show()"
   ]
  },
  {
   "cell_type": "code",
   "execution_count": null,
   "metadata": {},
   "outputs": [],
   "source": [
    "# NOT a Factory!!\n",
    "\n",
    "class DogCatMouse():\n",
    "    def __init__(self, animalType)\n",
    "        self.animalType = animalType\n",
    "    \n",
    "    def Show(self):\n",
    "        print(\"a \" + self.animalType)\n",
    "        \n",
    "class NotAnimalFactory():    \n",
    "    @classmethod\n",
    "    def CreateAnimal(cls, name, *args, **kwargs):\n",
    "        return DogCatMouse(name)\n",
    "\n",
    "animalList = [\"cat\", \"mouse\", \"dog\", \"mouse\"]\n",
    "objectList = []\n",
    "\n",
    "for i in animalList:\n",
    "    objectList.append(NotAnimalFactory.CreateAnimal(i))\n",
    "\n",
    "for i in objectList:\n",
    "    i.Show()"
   ]
  }
 ],
 "metadata": {
  "kernelspec": {
   "display_name": "Python 3",
   "language": "python",
   "name": "python3"
  },
  "language_info": {
   "codemirror_mode": {
    "name": "ipython",
    "version": 3
   },
   "file_extension": ".py",
   "mimetype": "text/x-python",
   "name": "python",
   "nbconvert_exporter": "python",
   "pygments_lexer": "ipython3",
   "version": "3.6.5"
  }
 },
 "nbformat": 4,
 "nbformat_minor": 2
}
