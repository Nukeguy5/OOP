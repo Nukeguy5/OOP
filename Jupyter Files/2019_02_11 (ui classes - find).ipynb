{
 "cells": [
  {
   "cell_type": "code",
   "execution_count": 2,
   "metadata": {
    "scrolled": true
   },
   "outputs": [
    {
     "name": "stdout",
     "output_type": "stream",
     "text": [
      "FindElementsByName: label\n",
      "\n",
      "\n",
      "FindElementsByName: foo\n",
      "Frame\n",
      "  Label: Test\n",
      "\n",
      "\n",
      "\n",
      "FindEachElementByName: foo\n",
      "Frame\n",
      "  Label: Test\n",
      "\n"
     ]
    }
   ],
   "source": [
    "from ui import *\n",
    "\n",
    "root = Tk()\n",
    "\n",
    "f = UIFrame(root=root)\n",
    "\n",
    "l = UILabel(text=\"Hello\")\n",
    "b = UIButton(l.SetText, data=\"Hello World\", text=\"Change\")\n",
    "\n",
    "f2 = UIFrame(name=\"foo\")\n",
    "\n",
    "f.Add(b, side=LEFT)\n",
    "f.Add(l, side=LEFT)\n",
    "f.Add(f2, side=LEFT)\n",
    "\n",
    "l2 = UILabel(text=\"Test\", name=\"foo\")\n",
    "f2 += l2\n",
    "\n",
    "print(\"FindElementsByName: label\")\n",
    "lst = f.FindElementsByName(\"label\")\n",
    "for i in lst:\n",
    "    print(str(i))\n",
    "    \n",
    "print()\n",
    "print()\n",
    "    \n",
    "print(\"FindElementsByName: foo\")\n",
    "lst = f.FindFrameElementsByName(\"foo\")\n",
    "for i in lst:\n",
    "    print(str(i))\n",
    "    \n",
    "print()\n",
    "print()\n",
    "\n",
    "print(\"FindEachElementByName: foo\")\n",
    "lst = f.FindEachElementByName(\"foo\")\n",
    "for i in lst:\n",
    "    print(str(i))"
   ]
  },
  {
   "cell_type": "code",
   "execution_count": null,
   "metadata": {
    "collapsed": true
   },
   "outputs": [],
   "source": []
  }
 ],
 "metadata": {
  "kernelspec": {
   "display_name": "Python 3",
   "language": "python",
   "name": "python3"
  },
  "language_info": {
   "codemirror_mode": {
    "name": "ipython",
    "version": 3
   },
   "file_extension": ".py",
   "mimetype": "text/x-python",
   "name": "python",
   "nbconvert_exporter": "python",
   "pygments_lexer": "ipython3",
   "version": "3.6.1"
  }
 },
 "nbformat": 4,
 "nbformat_minor": 2
}
