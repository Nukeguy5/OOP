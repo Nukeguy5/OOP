{
 "cells": [
  {
   "cell_type": "code",
   "execution_count": 2,
   "metadata": {},
   "outputs": [
    {
     "name": "stdout",
     "output_type": "stream",
     "text": [
      "Adding: 5\n",
      "Result: 15\n"
     ]
    }
   ],
   "source": [
    "# wrapping a class\n",
    "\n",
    "class Foo:\n",
    "    def __init__(self, a):\n",
    "        self.a = a\n",
    "        \n",
    "    def Add(self, b):\n",
    "        self.a += b\n",
    "        \n",
    "\n",
    "class FooWrapper:\n",
    "    def __init__(self, foo):\n",
    "        self.foo = foo\n",
    "        \n",
    "    def Add(self, b):\n",
    "        self.foo.Add(b)\n",
    "        print(\"Adding: \" + str(b) + \"\\nResult: \" + str(self.foo.a))\n",
    "        \n",
    "f = FooWrapper(Foo(10))\n",
    "f.Add(5)"
   ]
  },
  {
   "cell_type": "code",
   "execution_count": 6,
   "metadata": {},
   "outputs": [
    {
     "name": "stdout",
     "output_type": "stream",
     "text": [
      "1 2 3\n",
      "Executed TestFunction in 0.0547177791595459ms\n"
     ]
    }
   ],
   "source": [
    "# wrapping a function\n",
    "\n",
    "import time\n",
    "\n",
    "def LogWrapper(func):\n",
    "    \n",
    "    def wrapper(*args, **kwargs):  # defining a function in a function and returning it\n",
    "        now = time.time()\n",
    "        return_value = func(*args, **kwargs)  # this is the original function being wrapped\n",
    "        print(\"Executed {0} in {1}ms\".format(func.__name__, time.time() - now))\n",
    "        return return_value\n",
    "    \n",
    "    return wrapper\n",
    "\n",
    "def TestFunction(a, b, c):\n",
    "    print(a, b, c)\n",
    "    time.sleep(0.05)\n",
    "    \n",
    "logTest = LogWrapper(TestFunction)\n",
    "\n",
    "logTest(1, 2, 3)"
   ]
  },
  {
   "cell_type": "code",
   "execution_count": 7,
   "metadata": {},
   "outputs": [
    {
     "name": "stdout",
     "output_type": "stream",
     "text": [
      "Executed Add in 1.9073486328125e-06ms\n"
     ]
    }
   ],
   "source": [
    "# Python decorator\n",
    "\n",
    "import time\n",
    "\n",
    "def LogWrapper(func):\n",
    "    \n",
    "    def wrapper(*args, **kwargs):  # defining a function in a function and returning it\n",
    "        now = time.time()\n",
    "        return_value = func(*args, **kwargs)  # this is the original function being wrapped\n",
    "        print(\"Executed {0} in {1}ms\".format(func.__name__, time.time() - now))\n",
    "        return return_value\n",
    "    \n",
    "    return wrapper\n",
    "\n",
    "class Foo:\n",
    "    def __init__(self, a):\n",
    "        self.a = a\n",
    "      \n",
    "    @LogWrapper  # this means -> Add = LogWrapper(Add)\n",
    "    def Add(self, b):\n",
    "        self.a += b\n",
    "        \n",
    "f = Foo(10)\n",
    "f.Add(2)"
   ]
  },
  {
   "cell_type": "code",
   "execution_count": 8,
   "metadata": {},
   "outputs": [
    {
     "name": "stdout",
     "output_type": "stream",
     "text": [
      "Executed Add in 3.0994415283203125e-06ms\n"
     ]
    }
   ],
   "source": [
    "# monkey-patching - for runtime changes\n",
    "\n",
    "import time\n",
    "\n",
    "def LogWrapper(func):\n",
    "    \n",
    "    def wrapper(*args, **kwargs):  # defining a function in a function and returning it\n",
    "        now = time.time()\n",
    "        return_value = func(*args, **kwargs)  # this is the original function being wrapped\n",
    "        print(\"Executed {0} in {1}ms\".format(func.__name__, time.time() - now))\n",
    "        return return_value\n",
    "    \n",
    "    return wrapper\n",
    "\n",
    "class Foo:\n",
    "    def __init__(self, a):\n",
    "        self.a = a\n",
    "      \n",
    "    def Add(self, b):\n",
    "        self.a += b\n",
    "\n",
    "Foo.Add = LogWrapper(Foo.Add)\n",
    "f = Foo(9)\n",
    "f.Add(2)"
   ]
  },
  {
   "cell_type": "code",
   "execution_count": null,
   "metadata": {
    "collapsed": true
   },
   "outputs": [],
   "source": []
  }
 ],
 "metadata": {
  "kernelspec": {
   "display_name": "Python 3",
   "language": "python",
   "name": "python3"
  },
  "language_info": {
   "codemirror_mode": {
    "name": "ipython",
    "version": 3
   },
   "file_extension": ".py",
   "mimetype": "text/x-python",
   "name": "python",
   "nbconvert_exporter": "python",
   "pygments_lexer": "ipython3",
   "version": "3.6.1"
  }
 },
 "nbformat": 4,
 "nbformat_minor": 2
}
