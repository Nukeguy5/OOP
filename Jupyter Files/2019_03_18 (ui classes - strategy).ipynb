{
 "cells": [
  {
   "cell_type": "code",
   "execution_count": 3,
   "metadata": {},
   "outputs": [],
   "source": [
    "# Strategy example\n",
    "\n",
    "from ui import *\n",
    "\n",
    "root = Tk()\n",
    "\n",
    "f = UIFrame(root=root)\n",
    "\n",
    "UIElement.UILanguage = LanguageType.PIGLATIN\n",
    "\n",
    "l = UILabel(text={LanguageType.ENGLISH:\"Hello\",LanguageType.PIGLATIN:\"Ellohay\"},\n",
    "            name=\"label\")\n",
    "b = UIButton(l.SetText, data={LanguageType.ENGLISH:\"Hello World\",\n",
    "                              LanguageType.PIGLATIN:\"Ellohay Orldway\"},\n",
    "            text={LanguageType.ENGLISH:\"Change\",\n",
    "                  LanguageType.PIGLATIN:\"Hangecay\"}, name=\"button\", bg=\"red\")\n",
    "\n",
    "f.Add(b, side=LEFT, fg=\"white\")\n",
    "f.Add(l, side=LEFT)\n",
    "\n",
    "\n",
    "root.mainloop()"
   ]
  },
  {
   "cell_type": "code",
   "execution_count": null,
   "metadata": {},
   "outputs": [],
   "source": []
  }
 ],
 "metadata": {
  "kernelspec": {
   "display_name": "Python 3",
   "language": "python",
   "name": "python3"
  },
  "language_info": {
   "codemirror_mode": {
    "name": "ipython",
    "version": 3
   },
   "file_extension": ".py",
   "mimetype": "text/x-python",
   "name": "python",
   "nbconvert_exporter": "python",
   "pygments_lexer": "ipython3",
   "version": "3.6.5"
  }
 },
 "nbformat": 4,
 "nbformat_minor": 2
}
