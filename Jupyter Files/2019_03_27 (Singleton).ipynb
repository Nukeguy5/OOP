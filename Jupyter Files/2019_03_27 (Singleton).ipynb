{
 "cells": [
  {
   "cell_type": "code",
   "execution_count": 2,
   "metadata": {},
   "outputs": [
    {
     "name": "stdout",
     "output_type": "stream",
     "text": [
      "56\n",
      "56\n"
     ]
    }
   ],
   "source": [
    "\n",
    "class Single:\n",
    "    _singleton = None\n",
    "    \n",
    "    def __new__(cls, *args, **kwargs):\n",
    "        if not cls._singleton:  # if class is not created, then create it\n",
    "            cls._singleton = super(Single, cls).__new__(cls)  # pointer to current instance of class\n",
    "        # will return the pointer to the instance of the class\n",
    "        return cls._singleton\n",
    "    \n",
    "    def __init__(self, a):\n",
    "        self.a = a\n",
    "    \n",
    "s1 = Single(45)\n",
    "s2 = Single(56)\n",
    "\n",
    "print(s1.a)\n",
    "print(s2.a)\n",
    "            \n",
    "# prints the same memory address meaning that it is the same instance\n",
    "# if you change the variable for one of the pointers, it will change it for all pointers (ie instances)"
   ]
  },
  {
   "cell_type": "code",
   "execution_count": 3,
   "metadata": {},
   "outputs": [
    {
     "name": "stdout",
     "output_type": "stream",
     "text": [
      "67\n",
      "78\n"
     ]
    }
   ],
   "source": [
    "class NotSingle:\n",
    "    def __init__(self, a):\n",
    "        self.a = a\n",
    "\n",
    "ns1 = NotSingle(67)\n",
    "ns2 = NotSingle(78)\n",
    "print(ns1.a)\n",
    "print(ns2.a)"
   ]
  },
  {
   "cell_type": "code",
   "execution_count": null,
   "metadata": {
    "collapsed": true
   },
   "outputs": [],
   "source": []
  }
 ],
 "metadata": {
  "kernelspec": {
   "display_name": "Python 3",
   "language": "python",
   "name": "python3"
  },
  "language_info": {
   "codemirror_mode": {
    "name": "ipython",
    "version": 3
   },
   "file_extension": ".py",
   "mimetype": "text/x-python",
   "name": "python",
   "nbconvert_exporter": "python",
   "pygments_lexer": "ipython3",
   "version": "3.6.1"
  }
 },
 "nbformat": 4,
 "nbformat_minor": 2
}
