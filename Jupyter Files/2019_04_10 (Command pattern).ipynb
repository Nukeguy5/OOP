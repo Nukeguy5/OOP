{
 "cells": [
  {
   "cell_type": "code",
   "execution_count": 2,
   "metadata": {},
   "outputs": [
    {
     "name": "stdout",
     "output_type": "stream",
     "text": [
      "Dog's name is Rover\n",
      "Cat's name is Sylvester\n",
      "Dog's name is Spot\n",
      "Mouse's name is Minnie\n"
     ]
    }
   ],
   "source": [
    "\n",
    "class Command:\n",
    "    commandList = []\n",
    "\n",
    "    def Execute(self):\n",
    "        pass\n",
    "\n",
    "    @classmethod\n",
    "    def AddCommand(cls, command):\n",
    "        cls.commandList.append(command)\n",
    "\n",
    "    @classmethod\n",
    "    def ExecuteCommands(cls):\n",
    "        for i in cls.commandList:\n",
    "            i.Execute()\n",
    "        cls.commandList.clear()\n",
    "\n",
    "\n",
    "class Dog(Command):\n",
    "    def __init__(self, name):\n",
    "        self.name = name\n",
    "\n",
    "    def Execute(self):\n",
    "        print(f\"Dog's name is {self.name}\")\n",
    "\n",
    "\n",
    "class Cat(Command):\n",
    "    def __init__(self, name):\n",
    "        self.name = name\n",
    "\n",
    "    def Execute(self):\n",
    "        print(f\"Cat's name is {self.name}\")\n",
    "\n",
    "        \n",
    "class Mouse(Command):\n",
    "    def __init__(self, name):\n",
    "        self.name = name\n",
    "\n",
    "    def Execute(self):\n",
    "        print(f\"Mouse's name is {self.name}\")\n",
    "        \n",
    "Command.AddCommand(Dog(\"Rover\"))\n",
    "Command.AddCommand(Cat(\"Sylvester\"))\n",
    "Command.AddCommand(Dog(\"Spot\"))\n",
    "Command.AddCommand(Mouse(\"Minnie\"))\n",
    "\n",
    "Command.ExecuteCommands()"
   ]
  },
  {
   "cell_type": "code",
   "execution_count": null,
   "metadata": {
    "collapsed": true
   },
   "outputs": [],
   "source": []
  }
 ],
 "metadata": {
  "kernelspec": {
   "display_name": "Python 3",
   "language": "python",
   "name": "python3"
  },
  "language_info": {
   "codemirror_mode": {
    "name": "ipython",
    "version": 3
   },
   "file_extension": ".py",
   "mimetype": "text/x-python",
   "name": "python",
   "nbconvert_exporter": "python",
   "pygments_lexer": "ipython3",
   "version": "3.6.1"
  }
 },
 "nbformat": 4,
 "nbformat_minor": 2
}
