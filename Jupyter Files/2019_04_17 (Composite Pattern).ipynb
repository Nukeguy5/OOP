{
 "cells": [
  {
   "cell_type": "code",
   "execution_count": 5,
   "metadata": {},
   "outputs": [
    {
     "name": "stdout",
     "output_type": "stream",
     "text": [
      "[BAG]\n",
      "  1 red gem\n",
      "  1 green gem\n",
      "  [BAG]\n",
      "    5 walnuts\n",
      "    2 carrots\n",
      "    1 apple\n",
      "  1 diamond\n",
      "  [BAG]\n",
      "    3 gold coins\n",
      "    18 copper coins\n",
      "    [BAG]\n",
      "      2 rare coins\n",
      "      3 unidentified coins\n"
     ]
    }
   ],
   "source": [
    "\n",
    "from abc import ABC, abstractmethod\n",
    "\n",
    "class BaseItem(ABC):\n",
    "    @abstractmethod\n",
    "    def ShowItem(self, tab=0):\n",
    "        print(\"none\")\n",
    "\n",
    "class Item(BaseItem):\n",
    "    def __init__(self, name):\n",
    "        self.name = name\n",
    "\n",
    "    def ShowItem(self, tab=0):\n",
    "        r =\"\"\n",
    "        for j in range(tab):\n",
    "            r += \"  \"\n",
    "        r += self.name\n",
    "        print(r)\n",
    "\n",
    "class Bag(BaseItem):\n",
    "    def __init__(self, *args):\n",
    "        self.items = []\n",
    "        for i in args:\n",
    "            if issubclass(type(i), BaseItem):\n",
    "                self.items.append(i)\n",
    "    \n",
    "    def ShowItem(self, tab=0):\n",
    "        r = \"\"\n",
    "        for j in range(tab):\n",
    "            r += \"  \"\n",
    "        r += \"[BAG]\"\n",
    "        print(r)\n",
    "        for i in self.items:\n",
    "            i.ShowItem(tab + 1)\n",
    "\n",
    "bag = Bag(Item(\"1 red gem\"), Item(\"1 green gem\"), Bag(Item(\"5 walnuts\"), Item(\"2 carrots\"),\n",
    "        Item(\"1 apple\")), Item(\"1 diamond\"), Bag(Item(\"3 gold coins\"), Item(\"18 copper coins\"), \n",
    "        Bag(Item(\"2 rare coins\"), Item(\"3 unidentified coins\"))))\n",
    "bag.ShowItem()"
   ]
  },
  {
   "cell_type": "code",
   "execution_count": null,
   "metadata": {
    "collapsed": true
   },
   "outputs": [],
   "source": []
  }
 ],
 "metadata": {
  "kernelspec": {
   "display_name": "Python 3",
   "language": "python",
   "name": "python3"
  },
  "language_info": {
   "codemirror_mode": {
    "name": "ipython",
    "version": 3
   },
   "file_extension": ".py",
   "mimetype": "text/x-python",
   "name": "python",
   "nbconvert_exporter": "python",
   "pygments_lexer": "ipython3",
   "version": "3.6.1"
  }
 },
 "nbformat": 4,
 "nbformat_minor": 2
}
