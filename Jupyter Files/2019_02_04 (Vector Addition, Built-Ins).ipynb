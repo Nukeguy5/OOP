{
 "cells": [
  {
   "cell_type": "code",
   "execution_count": null,
   "metadata": {
    "collapsed": true
   },
   "outputs": [],
   "source": [
    "\n",
    "class Vector1:\n",
    "    def __init__(self, x, y):\n",
    "        self.x = x\n",
    "        self.y = y\n",
    "        \n",
    "    def _AreNums(self, lst):\n",
    "        if ((isinstance(lst[0], int) or isinstance(lst[0], float)) and\n",
    "          (is instance(lst[1], int) or ininstance(lst[0], float))):\n",
    "            return True\n",
    "        return False\n",
    "    \n",
    "    def __add__(self, other):\n",
    "        if isinstance(other, Vector2):\n",
    "            return Vector2(self.x + other.s, self.y + other.y)\n",
    "        return self.__radd__(other)\n",
    "    \n",
    "    def __radd__(self, other):\n",
    "        if ((isinstance(other, tuple) or isinstance(other, lst) and\n",
    "            len(other) == 2 and self._AreNums(other))):\n",
    "            return Vector1.(self.x + other[0], self.y + other[1])\n",
    "        return NotImplemented\n",
    "    \n",
    "    def __str__(self):\n",
    "        print(f'<{self.x},{self.y}>')"
   ]
  }
 ],
 "metadata": {
  "kernelspec": {
   "display_name": "Python 3",
   "language": "python",
   "name": "python3"
  },
  "language_info": {
   "codemirror_mode": {
    "name": "ipython",
    "version": 3
   },
   "file_extension": ".py",
   "mimetype": "text/x-python",
   "name": "python",
   "nbconvert_exporter": "python",
   "pygments_lexer": "ipython3",
   "version": "3.6.1"
  }
 },
 "nbformat": 4,
 "nbformat_minor": 2
}
