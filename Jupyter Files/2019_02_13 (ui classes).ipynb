{
 "cells": [
  {
   "cell_type": "code",
   "execution_count": 2,
   "metadata": {
    "collapsed": true
   },
   "outputs": [],
   "source": [
    "# Pass dictionary through example\n",
    "from ui import *\n",
    "\n",
    "root = Tk()\n",
    "\n",
    "f = UIFrame(root=root)\n",
    "\n",
    "l = UILabel(text=\"Hello\", name=\"label\")\n",
    "b = UIButton(l.SetText, data=\"Hello World!\", text=\"Change\", name=\"button\", bg=\"red\")\n",
    "\n",
    "f.Add(b, side=LEFT, fg=\"white\")\n",
    "f.Add(l, side=LEFT)\n",
    "\n",
    "root.mainloop()"
   ]
  },
  {
   "cell_type": "code",
   "execution_count": null,
   "metadata": {
    "collapsed": true
   },
   "outputs": [],
   "source": []
  }
 ],
 "metadata": {
  "kernelspec": {
   "display_name": "Python 3",
   "language": "python",
   "name": "python3"
  },
  "language_info": {
   "codemirror_mode": {
    "name": "ipython",
    "version": 3
   },
   "file_extension": ".py",
   "mimetype": "text/x-python",
   "name": "python",
   "nbconvert_exporter": "python",
   "pygments_lexer": "ipython3",
   "version": "3.6.1"
  }
 },
 "nbformat": 4,
 "nbformat_minor": 2
}
