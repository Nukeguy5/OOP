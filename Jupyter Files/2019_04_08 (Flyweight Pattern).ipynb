{
 "cells": [
  {
   "cell_type": "code",
   "execution_count": 3,
   "metadata": {},
   "outputs": [
    {
     "name": "stdout",
     "output_type": "stream",
     "text": [
      "earth: people live here\n",
      "earth: people live here\n",
      "mars: what is life?\n"
     ]
    }
   ],
   "source": [
    "\n",
    "import weakref\n",
    "\n",
    "class Planet:\n",
    "    _planets = weakref.WeakValueDictionary()  # if nothing else references an item (weak reference pointer)\n",
    "\n",
    "    def __new__(cls, name, *args, **kwargs):\n",
    "        planet = cls._planets.get(name)\n",
    "        if not planet:\n",
    "            planet = super().__new__(cls)\n",
    "            cls._planets[name] = planet\n",
    "        return planet\n",
    "\n",
    "    def __init__(self, name, description=None):\n",
    "        if not hasattr(self, \"name\"):\n",
    "            self.name = name\n",
    "            self.description = description\n",
    "\n",
    "    def ShowDescription(self):\n",
    "        print(self.name + \": \" + self.description)\n",
    "\n",
    "e = Planet(\"earth\", \"people live here\")\n",
    "e2 = Planet(\"earth\", \"animals live here too\")\n",
    "m = Planet(\"mars\", \"what is life?\")\n",
    "\n",
    "e.ShowDescription()\n",
    "e2.ShowDescription()\n",
    "m.ShowDescription()"
   ]
  },
  {
   "cell_type": "code",
   "execution_count": null,
   "metadata": {
    "collapsed": true
   },
   "outputs": [],
   "source": []
  }
 ],
 "metadata": {
  "kernelspec": {
   "display_name": "Python 3",
   "language": "python",
   "name": "python3"
  },
  "language_info": {
   "codemirror_mode": {
    "name": "ipython",
    "version": 3
   },
   "file_extension": ".py",
   "mimetype": "text/x-python",
   "name": "python",
   "nbconvert_exporter": "python",
   "pygments_lexer": "ipython3",
   "version": "3.6.1"
  }
 },
 "nbformat": 4,
 "nbformat_minor": 2
}
