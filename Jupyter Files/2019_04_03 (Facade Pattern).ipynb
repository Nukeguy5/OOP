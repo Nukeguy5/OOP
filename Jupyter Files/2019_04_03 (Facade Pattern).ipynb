{
 "cells": [
  {
   "cell_type": "code",
   "execution_count": null,
   "metadata": {
    "collapsed": true
   },
   "outputs": [],
   "source": [
    " \n",
    "class CarModel:\n",
    "    def SetModel(self):\n",
    "        print(\"CarModel - Set Model\")\n",
    "\n",
    "class CarEngine:\n",
    "    def SetEngine(self):\n",
    "        print(\"CarEngine - SetEngine\")\n",
    "\n",
    "class CarBody:\n",
    "    def SetBody(self):\n",
    "        print(\"CarBody - SetBody\")\n",
    "\n",
    "class CarAccessories:\n",
    "    def SetAccessories(self):\n",
    "        print(\"CarAccessories - SetAccessories\")\n",
    "\n",
    "class CarFacade:\n",
    "    def __init__(self):\n",
    "        self.accessories = CarAccessories()\n",
    "        self.body = CarBody()\n",
    "        self.engine = CarEngine()\n",
    "        self.model = CarModel()\n",
    "\n",
    "    def CreateCompleteCar(self):\n",
    "        print(\"*** Creating Car ***\")\n",
    "        self.model.SetModel()\n",
    "        self.engine.SetEngine()\n",
    "        self.body.SetBody()\n",
    "        self.accessories.SetAccessories()\n",
    "\n",
    "facade = CarFacade()\n",
    "facade.CreateCompleteCar()\n"
   ]
  }
 ],
 "metadata": {
  "kernelspec": {
   "display_name": "Python 3",
   "language": "python",
   "name": "python3"
  },
  "language_info": {
   "codemirror_mode": {
    "name": "ipython",
    "version": 3
   },
   "file_extension": ".py",
   "mimetype": "text/x-python",
   "name": "python",
   "nbconvert_exporter": "python",
   "pygments_lexer": "ipython3",
   "version": "3.6.1"
  }
 },
 "nbformat": 4,
 "nbformat_minor": 2
}
