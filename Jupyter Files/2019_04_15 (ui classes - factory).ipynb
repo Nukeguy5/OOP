{
 "cells": [
  {
   "cell_type": "code",
   "execution_count": 1,
   "metadata": {
    "collapsed": true
   },
   "outputs": [],
   "source": [
    "\n",
    "from ui import *\n",
    "\n",
    "r = UIFactory.NewElement(\"root\")\n",
    "\n",
    "f1 = UIFactory.NewElement(\"frame\")\n",
    "r.Add(f1, side=LEFT, relief=RAISED, borderwidth=2)\n",
    "\n",
    "l = UIFactory.NewElement(\"label\", text=\"Hello\", name=\"label\")\n",
    "\n",
    "message = UIMessage(newImage=\"Molly.gif\")\n",
    "\n",
    "b = UIFactory.NewElement(\"button\", action=message.ButtonCallback, data=\"TheImage\", text=\"Change\",\n",
    "                         name=\"button\", bg=\"red\")\n",
    "\n",
    "f1.Add(b, side=TOP, fg=\"white\")\n",
    "f1.Add(l, side=TOP)\n",
    "\n",
    "f2 = UIFactory.NewElement(\"frame\")\n",
    "r.Add(f2, side=LEFT)\n",
    "\n",
    "i = UIFactory.NewElement(\"image\", path=\"Joe.gif\", name=\"TheImage\")\n",
    "f2.Add(i, side=LEFT)\n",
    "\n",
    "r.MainLoop()"
   ]
  },
  {
   "cell_type": "code",
   "execution_count": null,
   "metadata": {
    "collapsed": true
   },
   "outputs": [],
   "source": []
  }
 ],
 "metadata": {
  "kernelspec": {
   "display_name": "Python 3",
   "language": "python",
   "name": "python3"
  },
  "language_info": {
   "codemirror_mode": {
    "name": "ipython",
    "version": 3
   },
   "file_extension": ".py",
   "mimetype": "text/x-python",
   "name": "python",
   "nbconvert_exporter": "python",
   "pygments_lexer": "ipython3",
   "version": "3.6.1"
  }
 },
 "nbformat": 4,
 "nbformat_minor": 2
}
