{
 "cells": [
  {
   "cell_type": "code",
   "execution_count": 4,
   "metadata": {},
   "outputs": [],
   "source": [
    "from ui import *\n",
    "\n",
    "r = UIRoot()\n",
    "\n",
    "f1 = UIFrame()\n",
    "r.Add(f1, side=LEFT, relief=RAISED, borderwidth=2)\n",
    "\n",
    "l = UILabel(text=\"Hello\", name=\"label\")\n",
    "\n",
    "message = UIMessage(newImage=\"photos/Molly.gif\")\n",
    "\n",
    "b = UIButton(message.ButtonCallback, data=\"TheImage\", text=\"Change\", name=\"button\", bg=\"red\")\n",
    "\n",
    "f1.Add(b, side=TOP, fg=\"white\")\n",
    "f1.Add(l, side=TOP)\n",
    "\n",
    "f2 = UIFrame()\n",
    "r.Add(f2, side=LEFT, relief=RAISED, borderwidth=2)\n",
    "\n",
    "i = UIImage(\"photos/Joe1.gif\", name=\"TheImage\")\n",
    "f2.Add(i, side=LEFT)\n",
    "\n",
    "r.MainLoop()\n"
   ]
  },
  {
   "cell_type": "code",
   "execution_count": null,
   "metadata": {
    "collapsed": true
   },
   "outputs": [],
   "source": []
  }
 ],
 "metadata": {
  "kernelspec": {
   "display_name": "Python 3",
   "language": "python",
   "name": "python3"
  },
  "language_info": {
   "codemirror_mode": {
    "name": "ipython",
    "version": 3
   },
   "file_extension": ".py",
   "mimetype": "text/x-python",
   "name": "python",
   "nbconvert_exporter": "python",
   "pygments_lexer": "ipython3",
   "version": "3.6.1"
  }
 },
 "nbformat": 4,
 "nbformat_minor": 2
}
