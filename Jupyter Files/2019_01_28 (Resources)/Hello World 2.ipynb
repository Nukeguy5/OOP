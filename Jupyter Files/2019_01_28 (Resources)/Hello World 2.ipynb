{
 "cells": [
  {
   "cell_type": "code",
   "execution_count": null,
   "metadata": {},
   "outputs": [],
   "source": [
    "from tkinter import *\n",
    "\n",
    "class App:\n",
    "    def __init__(self, master):\n",
    "\n",
    "        frame = Frame(master)\n",
    "        frame.pack()\n",
    "\n",
    "        self.button = Button(frame, text=\"QUIT\", fg=\"red\", command=frame.quit)\n",
    "        self.button.pack(side=LEFT)\n",
    "\n",
    "        self.hi_there = Button(frame, text=\"Hello\", command=self.say_hi)\n",
    "        self.hi_there.pack(side=LEFT)\n",
    "\n",
    "    def say_hi(self):\n",
    "        print(\"hi there, everyone!\")\n",
    "\n",
    "root = Tk()\n",
    "\n",
    "app = App(root)\n",
    "\n",
    "root.mainloop()\n",
    "root.destroy()"
   ]
  },
  {
   "cell_type": "code",
   "execution_count": null,
   "metadata": {},
   "outputs": [],
   "source": []
  }
 ],
 "metadata": {
  "kernelspec": {
   "display_name": "Python 3",
   "language": "python",
   "name": "python3"
  },
  "language_info": {
   "codemirror_mode": {
    "name": "ipython",
    "version": 3
   },
   "file_extension": ".py",
   "mimetype": "text/x-python",
   "name": "python",
   "nbconvert_exporter": "python",
   "pygments_lexer": "ipython3",
   "version": "3.6.5"
  }
 },
 "nbformat": 4,
 "nbformat_minor": 2
}
