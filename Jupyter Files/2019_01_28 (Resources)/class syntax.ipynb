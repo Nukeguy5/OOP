{
 "cells": [
  {
   "cell_type": "code",
   "execution_count": 1,
   "metadata": {},
   "outputs": [
    {
     "name": "stdout",
     "output_type": "stream",
     "text": [
      "<__main__.MyClass object at 0x000002F12123CBE0>\n",
      "<__main__.MyClass object at 0x000002F121191F98>\n"
     ]
    }
   ],
   "source": [
    "# Creating a class\n",
    "\n",
    "class MyClass:\n",
    "    pass\n",
    "\n",
    "# Creating 2 instances of that class\n",
    "a = MyClass()\n",
    "b = MyClass()\n",
    "\n",
    "print(a)\n",
    "print(b)"
   ]
  },
  {
   "cell_type": "code",
   "execution_count": 2,
   "metadata": {},
   "outputs": [
    {
     "name": "stdout",
     "output_type": "stream",
     "text": [
      "10\n"
     ]
    }
   ],
   "source": [
    "# Adding attribute 'x' to the 'a' instance of 'MyClass'\n",
    "\n",
    "a.x = 10\n",
    "\n",
    "print(a.x)"
   ]
  },
  {
   "cell_type": "code",
   "execution_count": 3,
   "metadata": {},
   "outputs": [
    {
     "name": "stdout",
     "output_type": "stream",
     "text": [
      "0 0\n"
     ]
    }
   ],
   "source": [
    "# This class comes with pre-initalized attributes\n",
    "\n",
    "class My2ndClass:\n",
    "    def __init__(self):\n",
    "        self.x = 0\n",
    "        self.y = 0\n",
    "\n",
    "c = My2ndClass()\n",
    "print(c.x, c.y)"
   ]
  },
  {
   "cell_type": "code",
   "execution_count": 4,
   "metadata": {},
   "outputs": [
    {
     "name": "stdout",
     "output_type": "stream",
     "text": [
      "10\n"
     ]
    }
   ],
   "source": [
    "# This class comes with another method\n",
    "\n",
    "class My3rdClass:\n",
    "    def __init__(self):\n",
    "        self.a = 0\n",
    "    \n",
    "    def Add(self, b):\n",
    "        self.a += b\n",
    "        \n",
    "d = My3rdClass()\n",
    "d.Add(10)\n",
    "print(d.a)"
   ]
  },
  {
   "cell_type": "code",
   "execution_count": 13,
   "metadata": {},
   "outputs": [
    {
     "name": "stdout",
     "output_type": "stream",
     "text": [
      "15\n"
     ]
    }
   ],
   "source": [
    "# This class takes a variable on initalization\n",
    "\n",
    "class My4thClass:\n",
    "    def __init__(self, s):\n",
    "        self.a = s\n",
    "    \n",
    "    def Add(self, b):\n",
    "        self.a += b\n",
    "        \n",
    "e = My4thClass(5)\n",
    "e.Add(10)\n",
    "print(e.a)"
   ]
  },
  {
   "cell_type": "code",
   "execution_count": 6,
   "metadata": {},
   "outputs": [
    {
     "name": "stdout",
     "output_type": "stream",
     "text": [
      "I am being deleted\n"
     ]
    }
   ],
   "source": [
    "# This class does something special when we delete it\n",
    "\n",
    "class My5thClass:\n",
    "    def __del__(self):\n",
    "        print(\"I am being deleted\")\n",
    "        \n",
    "f = My5thClass()\n",
    "del f"
   ]
  },
  {
   "cell_type": "code",
   "execution_count": 11,
   "metadata": {},
   "outputs": [
    {
     "name": "stdout",
     "output_type": "stream",
     "text": [
      "Hello World!\n"
     ]
    }
   ],
   "source": [
    "# Ths class has a docstring\n",
    "\n",
    "class My6thClass:\n",
    "    \"\"\"Hello World!\"\"\"\n",
    "    pass\n",
    "        \n",
    "g = My6thClass()\n",
    "print(g.__doc__)"
   ]
  },
  {
   "cell_type": "code",
   "execution_count": null,
   "metadata": {},
   "outputs": [],
   "source": []
  }
 ],
 "metadata": {
  "kernelspec": {
   "display_name": "Python 3",
   "language": "python",
   "name": "python3"
  },
  "language_info": {
   "codemirror_mode": {
    "name": "ipython",
    "version": 3
   },
   "file_extension": ".py",
   "mimetype": "text/x-python",
   "name": "python",
   "nbconvert_exporter": "python",
   "pygments_lexer": "ipython3",
   "version": "3.6.5"
  }
 },
 "nbformat": 4,
 "nbformat_minor": 2
}
