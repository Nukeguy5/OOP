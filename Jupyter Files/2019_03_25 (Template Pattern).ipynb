{
 "cells": [
  {
   "cell_type": "code",
   "execution_count": 2,
   "metadata": {},
   "outputs": [
    {
     "name": "stdout",
     "output_type": "stream",
     "text": [
      "Slice Cheese\n",
      "Clean lettuce\n",
      "Cook patty\n",
      "Assemble burger and eat\n",
      "Cleanup\n",
      "\n",
      "Put corndog in Microwave\n",
      "Eat corndog\n",
      "Cleanup\n"
     ]
    }
   ],
   "source": [
    "class CookAndEat:\n",
    "    def Prep(self):\n",
    "        pass\n",
    "    \n",
    "    def Cook(self):\n",
    "        pass\n",
    "    \n",
    "    def Eat(self):\n",
    "        pass\n",
    "    \n",
    "    def Cleanup(self):\n",
    "        print(\"Cleanup\")\n",
    "        \n",
    "    def Dinner(self):\n",
    "        self.Prep()\n",
    "        self.Cook()\n",
    "        self.Eat()\n",
    "        self.Cleanup()\n",
    "        \n",
    "class MakeAndEatBurger(CookAndEat):\n",
    "    def Prep(self):\n",
    "        print(\"Slice Cheese\")\n",
    "        print(\"Clean lettuce\")\n",
    "    \n",
    "    def Cook(self):\n",
    "        print(\"Cook patty\")\n",
    "        \n",
    "    def Eat(self):\n",
    "        print(\"Assemble burger and eat\")\n",
    "        \n",
    "class MakeAndEatCorndog(CookAndEat):\n",
    "    def Cook(self):\n",
    "        print(\"Put corndog in Microwave\")\n",
    "        \n",
    "    def Eat(self):\n",
    "        print(\"Eat corndog\")\n",
    "        \n",
    "burger = MakeAndEatBurger()\n",
    "burger.Dinner()\n",
    "\n",
    "print()\n",
    "\n",
    "corndog = MakeAndEatCorndog()\n",
    "corndog.Dinner()"
   ]
  },
  {
   "cell_type": "code",
   "execution_count": 5,
   "metadata": {},
   "outputs": [
    {
     "name": "stdout",
     "output_type": "stream",
     "text": [
      "Slice Cheese\n",
      "Clean Lettuce\n",
      "Cook patty\n",
      "Assemble and eat burger\n",
      "cleanup\n"
     ]
    }
   ],
   "source": [
    "class CookAndEat:\n",
    "    def Dinner(self):\n",
    "        self.Prep()\n",
    "        self.Cook()\n",
    "        self.Eat()\n",
    "        self.Cleanup()\n",
    "        \n",
    "def BurgerPrep():\n",
    "    print(\"Slice Cheese\")\n",
    "    print(\"Clean Lettuce\")\n",
    "    \n",
    "def BurgerCook():\n",
    "    print(\"Cook patty\")\n",
    "    \n",
    "def BurgerEat():\n",
    "    print(\"Assemble and eat burger\")\n",
    "    \n",
    "def BurgerCleanup():\n",
    "    print(\"cleanup\")\n",
    "    \n",
    "burger = CookAndEat()\n",
    "burger.Prep = BurgerPrep\n",
    "burger.Cook = BurgerCook\n",
    "burger.Eat = BurgerEat\n",
    "burger.Cleanup = BurgerCleanup\n",
    "\n",
    "burger.Dinner()"
   ]
  },
  {
   "cell_type": "code",
   "execution_count": null,
   "metadata": {
    "collapsed": true
   },
   "outputs": [],
   "source": []
  }
 ],
 "metadata": {
  "kernelspec": {
   "display_name": "Python 3",
   "language": "python",
   "name": "python3"
  },
  "language_info": {
   "codemirror_mode": {
    "name": "ipython",
    "version": 3
   },
   "file_extension": ".py",
   "mimetype": "text/x-python",
   "name": "python",
   "nbconvert_exporter": "python",
   "pygments_lexer": "ipython3",
   "version": "3.6.1"
  }
 },
 "nbformat": 4,
 "nbformat_minor": 2
}
