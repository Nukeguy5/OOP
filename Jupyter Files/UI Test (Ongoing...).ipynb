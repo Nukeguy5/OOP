{
 "cells": [
  {
   "cell_type": "code",
   "execution_count": null,
   "metadata": {
    "collapsed": true
   },
   "outputs": [],
   "source": [
    "from ui import *\n",
    "\n",
    "root = Tk()\n",
    "\n",
    "f = UIFrame(root=root, bd=50)\n",
    "\n",
    "l = UILabel(text=\"Hello\")\n",
    "b = UIButton(l.SetText, data=\"Hello World\", text=\"Change\")\n",
    "\n",
    "f.Add(b, side=LEFT, color='red')\n",
    "f.Add(l, side=LEFT, color='green')\n",
    "\n",
    "# pass in a border for a frame - DONE\n",
    "# pass in color and font for Label and Button - \n",
    "\n",
    "root.mainloop()\n"
   ]
  }
 ],
 "metadata": {
  "kernelspec": {
   "display_name": "Python 3",
   "language": "python",
   "name": "python3"
  },
  "language_info": {
   "codemirror_mode": {
    "name": "ipython",
    "version": 3
   },
   "file_extension": ".py",
   "mimetype": "text/x-python",
   "name": "python",
   "nbconvert_exporter": "python",
   "pygments_lexer": "ipython3",
   "version": "3.6.1"
  }
 },
 "nbformat": 4,
 "nbformat_minor": 2
}
