{
 "cells": [
  {
   "cell_type": "code",
   "execution_count": 1,
   "metadata": {},
   "outputs": [
    {
     "name": "stdout",
     "output_type": "stream",
     "text": [
      "Color.RED\n",
      "RED\n",
      "1\n",
      "\n",
      "RED\n",
      "GREEN\n",
      "BLUE\n"
     ]
    }
   ],
   "source": [
    "from enum import Enum\n",
    "\n",
    "class Color(Enum):\n",
    "    RED = 1\n",
    "    GREEN = 2\n",
    "    BLUE = 3\n",
    "    \n",
    "print(Color.RED)\n",
    "print(Color.RED.name)\n",
    "print(Color.RED.value)\n",
    "print()\n",
    "\n",
    "for c in Color:\n",
    "    print(c.name)"
   ]
  },
  {
   "cell_type": "code",
   "execution_count": 2,
   "metadata": {},
   "outputs": [
    {
     "name": "stdout",
     "output_type": "stream",
     "text": [
      "ColorFlag.YELLOW\n",
      "YELLOW\n",
      "3\n"
     ]
    }
   ],
   "source": [
    "# Flags\n",
    "\n",
    "from enum import Enum, IntFlag\n",
    "\n",
    "class ColorFlag(IntFlag):\n",
    "    RED = 1  # 001\n",
    "    GREEN = 2  # 010\n",
    "    BLUE = 4  # 100\n",
    "    MAGENTA = RED | BLUE # 101 -> 5\n",
    "    YELLOW = RED | GREEN # 011 -> 3\n",
    "    CYAN = GREEN | BLUE  # 110 -> 6\n",
    "    \n",
    "print(ColorFlag.YELLOW)\n",
    "print(ColorFlag.YELLOW.name)\n",
    "print(ColorFlag.YELLOW.value)\n",
    "\n"
   ]
  },
  {
   "cell_type": "code",
   "execution_count": 3,
   "metadata": {},
   "outputs": [
    {
     "name": "stdout",
     "output_type": "stream",
     "text": [
      "1\n",
      "2\n",
      "3\n"
     ]
    }
   ],
   "source": [
    "# Auto\n",
    "\n",
    "from enum import Enum, auto\n",
    "\n",
    "class ColorAuto(Enum):\n",
    "    RED = auto()\n",
    "    GREEN = auto()\n",
    "    BLUE = auto()\n",
    "    \n",
    "for c in ColorAuto:\n",
    "    print(c.value)"
   ]
  },
  {
   "cell_type": "code",
   "execution_count": null,
   "metadata": {
    "collapsed": true
   },
   "outputs": [],
   "source": [
    "# Enum members can have the same value but not the same name\n",
    "\n",
    "# Ensuring members have different values\n",
    "from Enum import Enum, unique\n",
    "\n",
    "@unique\n",
    "class Mistake(Enum):\n",
    "    pass\n"
   ]
  },
  {
   "cell_type": "code",
   "execution_count": null,
   "metadata": {
    "collapsed": true
   },
   "outputs": [],
   "source": [
    "# Comparing enum values\n",
    "from enum import Enum\n",
    "\n",
    "class Shape(Enum):\n",
    "    SQUARE = 2\n",
    "    DIAMOND = 1\n",
    "    CIRCLE = 3\n",
    "    ALIAS_FOR_SQUARE = 2\n",
    "    \n",
    "if Shape.SQUARE == Shape.DIAMOND:\n",
    "    pass\n",
    "\n"
   ]
  },
  {
   "cell_type": "code",
   "execution_count": 5,
   "metadata": {},
   "outputs": [
    {
     "name": "stdout",
     "output_type": "stream",
     "text": [
      "ANT 1\n",
      "BEE 2\n",
      "CAT 3\n",
      "DOG 4\n"
     ]
    }
   ],
   "source": [
    "# quick enum class\n",
    "\n",
    "from enum import Enum\n",
    "\n",
    "Animal = Enum('Animal', 'ANT BEE CAT DOG')\n",
    "\n",
    "for c in Animal:\n",
    "    print(c.name, c.value)\n",
    "    "
   ]
  },
  {
   "cell_type": "markdown",
   "metadata": {},
   "source": [
    "# Named Tuples"
   ]
  },
  {
   "cell_type": "code",
   "execution_count": 6,
   "metadata": {},
   "outputs": [
    {
     "name": "stdout",
     "output_type": "stream",
     "text": [
      "11 22\n",
      "11 22\n",
      "Point(x=11, y=22)\n"
     ]
    }
   ],
   "source": [
    "# Named Tuple example\n",
    "\n",
    "from collections import namedtuple\n",
    "\n",
    "Point = namedtuple('Point', ['x', 'y'])\n",
    "p = Point(11, y=22)\n",
    "\n",
    "print(p[0], p[1])\n",
    "print(p.x, p.y)\n",
    "print(p)"
   ]
  },
  {
   "cell_type": "code",
   "execution_count": 9,
   "metadata": {},
   "outputs": [
    {
     "name": "stdout",
     "output_type": "stream",
     "text": [
      "[Point(x=1, y=2), Point(x=3, y=4), Point(x=5, y=6), Point(x=7, y=8), Point(x=9, y=10), Point(x=11, y=12), Point(x=13, y=14), Point(x=15, y=16)]\n",
      "[2, 4, 6, 8, 10, 12, 14, 16]\n"
     ]
    },
    {
     "ename": "AttributeError",
     "evalue": "'list' object has no attribute 'name'",
     "output_type": "error",
     "traceback": [
      "\u001b[0;31m---------------------------------------------------------------------------\u001b[0m",
      "\u001b[0;31mAttributeError\u001b[0m                            Traceback (most recent call last)",
      "\u001b[0;32m<ipython-input-9-0ebae3e3af70>\u001b[0m in \u001b[0;36m<module>\u001b[0;34m()\u001b[0m\n\u001b[1;32m     13\u001b[0m \u001b[0my_vals\u001b[0m \u001b[0;34m=\u001b[0m \u001b[0;34m[\u001b[0m\u001b[0mi\u001b[0m\u001b[0;34m.\u001b[0m\u001b[0my\u001b[0m \u001b[0;32mfor\u001b[0m \u001b[0mi\u001b[0m \u001b[0;32min\u001b[0m \u001b[0mPointList\u001b[0m\u001b[0;34m]\u001b[0m\u001b[0;34m\u001b[0m\u001b[0m\n\u001b[1;32m     14\u001b[0m \u001b[0mprint\u001b[0m\u001b[0;34m(\u001b[0m\u001b[0my_vals\u001b[0m\u001b[0;34m)\u001b[0m\u001b[0;34m\u001b[0m\u001b[0m\n\u001b[0;32m---> 15\u001b[0;31m \u001b[0mprint\u001b[0m\u001b[0;34m(\u001b[0m\u001b[0my_vals\u001b[0m\u001b[0;34m.\u001b[0m\u001b[0mname\u001b[0m\u001b[0;34m)\u001b[0m\u001b[0;34m\u001b[0m\u001b[0m\n\u001b[0m",
      "\u001b[0;31mAttributeError\u001b[0m: 'list' object has no attribute 'name'"
     ]
    }
   ],
   "source": [
    "PointList = [\n",
    "    Point(1,2),\n",
    "    Point(3,4),\n",
    "    Point(5,6),\n",
    "    Point(7,8),\n",
    "    Point(9,10),\n",
    "    Point(11,12),\n",
    "    Point(13,14),\n",
    "    Point(15,16)\n",
    "]\n",
    "\n",
    "print(PointList)\n",
    "y_vals = [i.y for i in PointList]\n",
    "print(y_vals)\n"
   ]
  }
 ],
 "metadata": {
  "kernelspec": {
   "display_name": "Python 3",
   "language": "python",
   "name": "python3"
  },
  "language_info": {
   "codemirror_mode": {
    "name": "ipython",
    "version": 3
   },
   "file_extension": ".py",
   "mimetype": "text/x-python",
   "name": "python",
   "nbconvert_exporter": "python",
   "pygments_lexer": "ipython3",
   "version": "3.6.1"
  }
 },
 "nbformat": 4,
 "nbformat_minor": 2
}
