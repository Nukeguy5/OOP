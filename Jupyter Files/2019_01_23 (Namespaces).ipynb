{
 "cells": [
  {
   "cell_type": "code",
   "execution_count": 3,
   "metadata": {},
   "outputs": [
    {
     "name": "stdout",
     "output_type": "stream",
     "text": [
      "3.141592653589793\n",
      "10\n",
      "running\n"
     ]
    }
   ],
   "source": [
    "\n",
    "# Change the name of module from pi to PI\n",
    "from math import pi as PI\n",
    "\n",
    "print(PI)\n",
    "\n",
    "# Namespace is Foo\n",
    "class Foo:\n",
    "    a = 10\n",
    "    \n",
    "# Namespace is local\n",
    "a = 5\n",
    "\n",
    "print(Foo.a)\n",
    "print(a)\n",
    "\n",
    "# Check if program running is module or main program\n",
    "if __name__ == \"__main__\":\n",
    "    print(\"running\")"
   ]
  },
  {
   "cell_type": "code",
   "execution_count": 4,
   "metadata": {},
   "outputs": [
    {
     "name": "stdout",
     "output_type": "stream",
     "text": [
      "hi there, everyone!\n"
     ]
    }
   ],
   "source": [
    "# import hello.py from the folder\n",
    "import hello\n",
    "\n",
    "hello.main()"
   ]
  },
  {
   "cell_type": "code",
   "execution_count": null,
   "metadata": {
    "collapsed": true
   },
   "outputs": [],
   "source": []
  }
 ],
 "metadata": {
  "kernelspec": {
   "display_name": "Python 3",
   "language": "python",
   "name": "python3"
  },
  "language_info": {
   "codemirror_mode": {
    "name": "ipython",
    "version": 3
   },
   "file_extension": ".py",
   "mimetype": "text/x-python",
   "name": "python",
   "nbconvert_exporter": "python",
   "pygments_lexer": "ipython3",
   "version": "3.6.1"
  }
 },
 "nbformat": 4,
 "nbformat_minor": 2
}
