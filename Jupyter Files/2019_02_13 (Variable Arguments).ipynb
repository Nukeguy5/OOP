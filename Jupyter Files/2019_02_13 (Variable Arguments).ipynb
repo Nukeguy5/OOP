{
 "cells": [
  {
   "cell_type": "code",
   "execution_count": 1,
   "metadata": {},
   "outputs": [
    {
     "name": "stdout",
     "output_type": "stream",
     "text": [
      "11\n",
      "16\n"
     ]
    }
   ],
   "source": [
    "# positional arguments\n",
    "\n",
    "def foo(a, b, c=10, d=5):\n",
    "    print(a + b + c + d)\n",
    "    \n",
    "foo(1, 2, 3)\n",
    "foo(1, 2, d=4, c=9)"
   ]
  },
  {
   "cell_type": "code",
   "execution_count": 2,
   "metadata": {},
   "outputs": [
    {
     "name": "stdout",
     "output_type": "stream",
     "text": [
      "1 (2, 3)\n",
      "1 2 3\n",
      "4\n",
      "5\n",
      "6\n"
     ]
    }
   ],
   "source": [
    "# variable argument list\n",
    "def foo(a, *args):\n",
    "    print(a, args)\n",
    "    print(a, *args)\n",
    "    \n",
    "def bar(*args):\n",
    "    for i in args:\n",
    "        print(i)\n",
    "\n",
    "foo(1, 2, 3)\n",
    "bar(4, 5, 6)"
   ]
  },
  {
   "cell_type": "code",
   "execution_count": 3,
   "metadata": {},
   "outputs": [
    {
     "name": "stdout",
     "output_type": "stream",
     "text": [
      "1 {'b': 2, 'c': 3}\n",
      "b:2\n",
      "c:3\n"
     ]
    }
   ],
   "source": [
    "# variable default argument list\n",
    "\n",
    "def foo(a, **kwargs):\n",
    "    print(a, kwargs)\n",
    "    for k, v in kwargs.items():\n",
    "        print(k + \":\" + str(v))\n",
    "        \n",
    "foo(a=1, b=2, c=3)\n",
    "b:2\n",
    "c:3"
   ]
  },
  {
   "cell_type": "code",
   "execution_count": 5,
   "metadata": {},
   "outputs": [
    {
     "name": "stdout",
     "output_type": "stream",
     "text": [
      "-> 1\n",
      "-> 2\n",
      "-> 3\n",
      "-) 1\n",
      "-) 2\n",
      "-) 3\n",
      "-] 1\n",
      "-] 2\n",
      "-] 3\n"
     ]
    }
   ],
   "source": [
    "# callback usage\n",
    "\n",
    "def MyPrint(value):\n",
    "    print(\"-> \" + str(value))\n",
    "\n",
    "def listItems(callback, *args):\n",
    "    for i in args:\n",
    "        callback(i)\n",
    "        \n",
    "listItems(MyPrint, 1, 2, 3)\n",
    "listItems(lambda value: print(\"-) \" + str(value)), 1, 2, 3)\n",
    "\n",
    "myPrt = lambda value: print(\"-] \" + str(value))\n",
    "listItems(myPrt, 1, 2, 3)\n"
   ]
  },
  {
   "cell_type": "code",
   "execution_count": 6,
   "metadata": {},
   "outputs": [
    {
     "name": "stdout",
     "output_type": "stream",
     "text": [
      "Info: Hello World!\n"
     ]
    }
   ],
   "source": [
    "# monkey patching\n",
    "\n",
    "class monkey:\n",
    "    pass\n",
    "\n",
    "class callme:\n",
    "    def __init__(self, message):\n",
    "        self.message = message\n",
    "        \n",
    "    def __call__(self, appendMessage):\n",
    "        print(self.message + appendMessage)\n",
    "        \n",
    "c = callme(\"Info: \")\n",
    "c(\"Hello World!\")\n"
   ]
  }
 ],
 "metadata": {
  "kernelspec": {
   "display_name": "Python 3",
   "language": "python",
   "name": "python3"
  },
  "language_info": {
   "codemirror_mode": {
    "name": "ipython",
    "version": 3
   },
   "file_extension": ".py",
   "mimetype": "text/x-python",
   "name": "python",
   "nbconvert_exporter": "python",
   "pygments_lexer": "ipython3",
   "version": "3.6.1"
  }
 },
 "nbformat": 4,
 "nbformat_minor": 2
}
