{
 "cells": [
  {
   "cell_type": "code",
   "execution_count": 1,
   "metadata": {},
   "outputs": [
    {
     "name": "stdout",
     "output_type": "stream",
     "text": [
      "Parent Class\n",
      "Subclassed\n"
     ]
    }
   ],
   "source": [
    "# __init_subclass__ -> what parent should do if it is subclassed\n",
    "\n",
    "class ParentClass:\n",
    "    def __init__(self):\n",
    "        self.text = \"Parent Class\"\n",
    "        \n",
    "    def __init_subclass__(cls):\n",
    "        cls.text = \"Subclassed\"\n",
    "        \n",
    "class ChildClass(ParentClass):\n",
    "    def __init__(self):\n",
    "        pass\n",
    "    \n",
    "a = ParentClass()\n",
    "b = ChildClass()\n",
    "\n",
    "print(a.text)\n",
    "print(b.text)"
   ]
  },
  {
   "cell_type": "code",
   "execution_count": 5,
   "metadata": {},
   "outputs": [
    {
     "name": "stdout",
     "output_type": "stream",
     "text": [
      "1\n",
      "Hello 1\n",
      "Hello 2\n"
     ]
    }
   ],
   "source": [
    "# type(object)\n",
    "# Return the type of th object\n",
    "\n",
    "# type(name, bases, dict)\n",
    "# Re\n",
    "\n",
    "class Foo1:\n",
    "    a = 1\n",
    "    def Output(self):\n",
    "        print(\"Hello\", str(self.a))\n",
    "        \n",
    "print(Foo1.a)\n",
    "f1 = Foo1()\n",
    "Foo2 = type(\"Foo2\", (object,), {\"a\":2, \"Output\":(lambda self: print(\"Hello\", str(self.a)))})\n",
    "f2 = Foo2()\n",
    "\n",
    "f1.Output()\n",
    "f2.Output()"
   ]
  },
  {
   "cell_type": "code",
   "execution_count": 6,
   "metadata": {},
   "outputs": [
    {
     "name": "stdout",
     "output_type": "stream",
     "text": [
      "('__module__', '__qualname__', 'one', 'two', 'three', 'four')\n"
     ]
    }
   ],
   "source": [
    "# metaclass\n",
    "# This is for special creation rules\n",
    "# You can override name, bases, dictionary\n",
    "# Enum class does this\n",
    "\n",
    "class MClass(type):\n",
    "    def __new__(cls, name, bases, namespace, **kwargs):\n",
    "        result = type.__new__(cls, name, bases, dict(namespace))\n",
    "        result.members = tuple(namespace)\n",
    "        return result\n",
    "    \n",
    "class MyClass(metaclass=MClass):\n",
    "    def one():\n",
    "        pass\n",
    "    \n",
    "    def two():\n",
    "        pass\n",
    "    \n",
    "    def three():\n",
    "        pass\n",
    "    \n",
    "    def four():\n",
    "        pass\n",
    "    \n",
    "print(MyClass.members)"
   ]
  },
  {
   "cell_type": "code",
   "execution_count": 9,
   "metadata": {},
   "outputs": [
    {
     "ename": "TypeError",
     "evalue": "Can't instantiate abstract class ChildClass with abstract methods Message1",
     "output_type": "error",
     "traceback": [
      "\u001b[0;31m---------------------------------------------------------------------------\u001b[0m",
      "\u001b[0;31mTypeError\u001b[0m                                 Traceback (most recent call last)",
      "\u001b[0;32m<ipython-input-9-8d8371af7129>\u001b[0m in \u001b[0;36m<module>\u001b[0;34m()\u001b[0m\n\u001b[1;32m     13\u001b[0m \u001b[0;34m\u001b[0m\u001b[0m\n\u001b[1;32m     14\u001b[0m \u001b[0;31m# b1 = BaseClass()\u001b[0m\u001b[0;34m\u001b[0m\u001b[0;34m\u001b[0m\u001b[0m\n\u001b[0;32m---> 15\u001b[0;31m \u001b[0mc1\u001b[0m \u001b[0;34m=\u001b[0m \u001b[0mChildClass\u001b[0m\u001b[0;34m(\u001b[0m\u001b[0;34m)\u001b[0m\u001b[0;34m\u001b[0m\u001b[0m\n\u001b[0m",
      "\u001b[0;31mTypeError\u001b[0m: Can't instantiate abstract class ChildClass with abstract methods Message1"
     ]
    }
   ],
   "source": [
    "from abc import ABC, abstractmethod\n",
    "\n",
    "class BaseClass(ABC):\n",
    "    @abstractmethod\n",
    "    def Message1(self):\n",
    "        print(\"Hi\")\n",
    "        \n",
    "    def Message2(self):\n",
    "        print(\"Bye\")\n",
    "        \n",
    "class ChildClass(BaseClass):\n",
    "    pass\n",
    "\n",
    "c1 = ChildClass()"
   ]
  },
  {
   "cell_type": "code",
   "execution_count": 12,
   "metadata": {},
   "outputs": [
    {
     "name": "stdout",
     "output_type": "stream",
     "text": [
      "Hi\n",
      "Hello\n",
      "Bye\n"
     ]
    }
   ],
   "source": [
    "from abc import ABC, abstractmethod\n",
    "\n",
    "class BaseClass(ABC):\n",
    "    @abstractmethod\n",
    "    def Message1(self):\n",
    "        print(\"Hi\")\n",
    "        \n",
    "    def Message2(self):\n",
    "        print(\"Bye\")\n",
    "        \n",
    "class ChildClass(BaseClass):   \n",
    "    def Message1(self):\n",
    "        super().Message1()\n",
    "        print(\"Hello\")\n",
    "\n",
    "c1 = ChildClass()\n",
    "c1.Message1()\n",
    "c1.Message2()"
   ]
  },
  {
   "cell_type": "code",
   "execution_count": 13,
   "metadata": {},
   "outputs": [
    {
     "name": "stdout",
     "output_type": "stream",
     "text": [
      "Hello World 1\n"
     ]
    }
   ],
   "source": [
    "# classmethod\n",
    "\n",
    "class Foo:\n",
    "    a = 1\n",
    "    @classmethod\n",
    "    def Output(cls):\n",
    "        print(\"Hello World\", str(cls.a))\n",
    "\n",
    "# note that we did not instantiate Foo to use this method\n",
    "Foo.Output()"
   ]
  },
  {
   "cell_type": "code",
   "execution_count": 14,
   "metadata": {},
   "outputs": [
    {
     "name": "stdout",
     "output_type": "stream",
     "text": [
      "3\n"
     ]
    }
   ],
   "source": [
    "# @staticmethod\n",
    "\n",
    "class Mathematics:\n",
    "    @staticmethod\n",
    "    def addNumbers(x, y):  #note that self or cls are not passed in. They are not meant to be used.\n",
    "        return x + y\n",
    "    \n",
    "result = Mathematics.addNumbers(1, 2)\n",
    "print(result)"
   ]
  },
  {
   "cell_type": "code",
   "execution_count": 17,
   "metadata": {},
   "outputs": [
    {
     "name": "stdout",
     "output_type": "stream",
     "text": [
      "10 <class 'int'>\n",
      "10\n"
     ]
    }
   ],
   "source": [
    "# @property\n",
    "\n",
    "class WithProperty:\n",
    "    def __init__(self):\n",
    "        self._myvalue = \"0\"\n",
    "        \n",
    "    @property\n",
    "    def value(self):\n",
    "        return int(self._myvalue)\n",
    "    \n",
    "    @value.setter\n",
    "    def value(self, v):\n",
    "        self._myvalue = str(v)\n",
    "        \n",
    "    def output(self):\n",
    "        print(self._myvalue)\n",
    "        \n",
    "p = WithProperty()\n",
    "p.value = 10\n",
    "print(p.value)\n",
    "p.output()"
   ]
  },
  {
   "cell_type": "code",
   "execution_count": null,
   "metadata": {
    "collapsed": true
   },
   "outputs": [],
   "source": []
  }
 ],
 "metadata": {
  "kernelspec": {
   "display_name": "Python 3",
   "language": "python",
   "name": "python3"
  },
  "language_info": {
   "codemirror_mode": {
    "name": "ipython",
    "version": 3
   },
   "file_extension": ".py",
   "mimetype": "text/x-python",
   "name": "python",
   "nbconvert_exporter": "python",
   "pygments_lexer": "ipython3",
   "version": "3.6.1"
  }
 },
 "nbformat": 4,
 "nbformat_minor": 2
}
