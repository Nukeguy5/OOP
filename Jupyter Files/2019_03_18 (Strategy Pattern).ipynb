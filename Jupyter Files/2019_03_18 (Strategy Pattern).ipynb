{
 "cells": [
  {
   "cell_type": "code",
   "execution_count": 2,
   "metadata": {},
   "outputs": [
    {
     "name": "stdout",
     "output_type": "stream",
     "text": [
      "Chickens crossing the road in a flock of 3\n"
     ]
    }
   ],
   "source": [
    "# Strategy Example\n",
    "\n",
    "from abc import ABC, abstractmethod\n",
    "\n",
    "class BaseChicken(ABC):\n",
    "    def __init__(self, count):\n",
    "        self.count = count\n",
    "    \n",
    "    @abstractmethod\n",
    "    def Message(self):\n",
    "        pass\n",
    "\n",
    "class Chicken1(BaseChicken):\n",
    "    def Message(self):\n",
    "        print(str(self.count) + \" chickens crossing the road\")\n",
    "        \n",
    "class Chicken2(BaseChicken):\n",
    "    def Message(self):\n",
    "        print(\"Chickens crossing the road in a flock of \" + str(self.count))\n",
    "\n",
    "numChickens = 3\n",
    "messages = [Chicken1(numChickens), Chicken2(numChickens)]\n",
    "messageNum = 1\n",
    "\n",
    "messages[messageNum].Message()"
   ]
  },
  {
   "cell_type": "code",
   "execution_count": null,
   "metadata": {
    "collapsed": true
   },
   "outputs": [],
   "source": []
  }
 ],
 "metadata": {
  "kernelspec": {
   "display_name": "Python 3",
   "language": "python",
   "name": "python3"
  },
  "language_info": {
   "codemirror_mode": {
    "name": "ipython",
    "version": 3
   },
   "file_extension": ".py",
   "mimetype": "text/x-python",
   "name": "python",
   "nbconvert_exporter": "python",
   "pygments_lexer": "ipython3",
   "version": "3.6.1"
  }
 },
 "nbformat": 4,
 "nbformat_minor": 2
}
