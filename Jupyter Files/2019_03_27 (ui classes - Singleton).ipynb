{
 "cells": [
  {
   "cell_type": "code",
   "execution_count": 3,
   "metadata": {},
   "outputs": [
    {
     "name": "stdout",
     "output_type": "stream",
     "text": [
      "OK\n"
     ]
    }
   ],
   "source": [
    "\n",
    "from ui import *\n",
    "\n",
    "f = UIRoot()\n",
    "\n",
    "l = UILabel(text=\"Hello\", name=\"label\")\n",
    "b = UIButton(l.SetText, data=\"Hello World\", text=\"Change\", name=\"button\", bg=\"red\")\n",
    "\n",
    "f.Add(b, side=TOP, fg=\"white\")\n",
    "f.Add(l, side=TOP)\n",
    "\n",
    "def OKResult(text):\n",
    "    print(\"OK\")\n",
    "    \n",
    "oc = UIOkCancel(OKResult)\n",
    "f.Add(oc, side=TOP)\n",
    "\n",
    "f.MainLoop()\n"
   ]
  },
  {
   "cell_type": "code",
   "execution_count": null,
   "metadata": {
    "collapsed": true
   },
   "outputs": [],
   "source": []
  }
 ],
 "metadata": {
  "kernelspec": {
   "display_name": "Python 3",
   "language": "python",
   "name": "python3"
  },
  "language_info": {
   "codemirror_mode": {
    "name": "ipython",
    "version": 3
   },
   "file_extension": ".py",
   "mimetype": "text/x-python",
   "name": "python",
   "nbconvert_exporter": "python",
   "pygments_lexer": "ipython3",
   "version": "3.6.1"
  }
 },
 "nbformat": 4,
 "nbformat_minor": 2
}
