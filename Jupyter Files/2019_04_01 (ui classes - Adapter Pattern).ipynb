{
 "cells": [
  {
   "cell_type": "code",
   "execution_count": 1,
   "metadata": {},
   "outputs": [
    {
     "name": "stderr",
     "output_type": "stream",
     "text": [
      "Exception in Tkinter callback\n",
      "Traceback (most recent call last):\n",
      "  File \"/anaconda/lib/python3.6/tkinter/__init__.py\", line 1699, in __call__\n",
      "    return self.func(*args)\n",
      "  File \"/Users/nukeguy5/Desktop/Object Oriented Programming - CSCI251/Jupyter Files/ui.py\", line 318, in _Command\n",
      "    self.action(self.data, self.myIndex)\n",
      "TypeError: 'UIRadioButton' object is not callable\n"
     ]
    },
    {
     "name": "stdout",
     "output_type": "stream",
     "text": [
      "2\n",
      "1\n",
      "2\n",
      "1\n"
     ]
    },
    {
     "name": "stderr",
     "output_type": "stream",
     "text": [
      "Exception in Tkinter callback\n",
      "Traceback (most recent call last):\n",
      "  File \"/anaconda/lib/python3.6/tkinter/__init__.py\", line 1699, in __call__\n",
      "    return self.func(*args)\n",
      "  File \"/Users/nukeguy5/Desktop/Object Oriented Programming - CSCI251/Jupyter Files/ui.py\", line 318, in _Command\n",
      "    self.action(self.data, self.myIndex)\n",
      "TypeError: 'UIRadioButton' object is not callable\n"
     ]
    }
   ],
   "source": [
    "from ui import *\n",
    "\n",
    "r = UIRoot()\n",
    "\n",
    "f1 = UIFrame()\n",
    "r.Add(f1, side=LEFT, relief=RAISED, borderwidth=2)\n",
    "\n",
    "l = UILabel(text=\"Hello\", name=\"label\")\n",
    "b = UIButton(l.SetText, data=\"Hello World\", text=\"Change\", name=\"Button\")\n",
    "\n",
    "f1.Add(b, side=TOP, fg=\"white\")\n",
    "f1.Add(l, side=TOP)\n",
    "\n",
    "f2 = UIFrame()\n",
    "r.Add(f2, side=LEFT, relief=RAISED, borderwidth=2)\n",
    "\n",
    "# http://effbot.org/tkinterbook/radiobutton.htm\n",
    "\n",
    "def RadioResult(data, selected):\n",
    "    print(selected)\n",
    "\n",
    "rb1 = UIRadioButton(action=RadioResult, text='Dog')\n",
    "f2.Add(rb1, side=TOP)\n",
    "rb2 = UIRadioButton(action=RadioResult, text='Cat')\n",
    "f2.Add(rb2, side=TOP)\n",
    "rb3 = rb2.CopySelf(text='Mouse', addToSameFrame=True)\n",
    "\n",
    "f3 = UIFrame()\n",
    "r.Add(f3, side=LEFT, relief=RAISED, borderwidth=2)\n",
    "\n",
    "rb1b = UIRadioButton(action=RadioResult, text='House')\n",
    "f3.Add(rb1b, side=TOP)\n",
    "rb2b = UIRadioButton(action=RadioResult, text='Tree')\n",
    "f3.Add(rb2b, side=TOP)\n",
    "rb3b = rb2b.CopySelf(text='Hole', addToSameFrame=True)\n",
    "\n",
    "r.MainLoop()"
   ]
  },
  {
   "cell_type": "code",
   "execution_count": null,
   "metadata": {
    "collapsed": true
   },
   "outputs": [],
   "source": []
  },
  {
   "cell_type": "code",
   "execution_count": null,
   "metadata": {
    "collapsed": true
   },
   "outputs": [],
   "source": []
  }
 ],
 "metadata": {
  "kernelspec": {
   "display_name": "Python 3",
   "language": "python",
   "name": "python3"
  },
  "language_info": {
   "codemirror_mode": {
    "name": "ipython",
    "version": 3
   },
   "file_extension": ".py",
   "mimetype": "text/x-python",
   "name": "python",
   "nbconvert_exporter": "python",
   "pygments_lexer": "ipython3",
   "version": "3.6.1"
  }
 },
 "nbformat": 4,
 "nbformat_minor": 2
}
