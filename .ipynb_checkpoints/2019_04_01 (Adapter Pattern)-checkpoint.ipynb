{
 "cells": [
  {
   "cell_type": "code",
   "execution_count": 10,
   "metadata": {},
   "outputs": [
    {
     "name": "stdout",
     "output_type": "stream",
     "text": [
      "10\n"
     ]
    }
   ],
   "source": [
    "# Adapter Pattern\n",
    "\n",
    "class MyMath:\n",
    "    @staticmethod\n",
    "    def Add(a, b):\n",
    "        return a + b\n",
    "\n",
    "# adapter for MyMath and MathMaker\n",
    "class AdapterMath(MyMath):\n",
    "    @staticmethod\n",
    "    def Add(a, *args):\n",
    "        result = a\n",
    "        for b in args:\n",
    "            result = MyMath.Add(result, b)\n",
    "        return result\n",
    "\n",
    "class MathMaker:\n",
    "    def __init__(self, mathClass):\n",
    "        self.mathClass = mathClass\n",
    "\n",
    "    def Calculate(self):\n",
    "        print(self.mathClass.Add(1, 2, 3, 4))\n",
    "\n",
    "m = MathMaker(AdapterMath)\n",
    "m.Calculate()"
   ]
  },
  {
   "cell_type": "code",
   "execution_count": null,
   "metadata": {
    "collapsed": true
   },
   "outputs": [],
   "source": []
  }
 ],
 "metadata": {
  "kernelspec": {
   "display_name": "Python 3",
   "language": "python",
   "name": "python3"
  },
  "language_info": {
   "codemirror_mode": {
    "name": "ipython",
    "version": 3
   },
   "file_extension": ".py",
   "mimetype": "text/x-python",
   "name": "python",
   "nbconvert_exporter": "python",
   "pygments_lexer": "ipython3",
   "version": "3.6.1"
  }
 },
 "nbformat": 4,
 "nbformat_minor": 2
}
