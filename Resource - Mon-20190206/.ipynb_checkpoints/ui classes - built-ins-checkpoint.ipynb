{
 "cells": [
  {
   "cell_type": "code",
   "execution_count": 1,
   "metadata": {},
   "outputs": [
    {
     "name": "stdout",
     "output_type": "stream",
     "text": [
      "Frame\n",
      "  Button: Change\n",
      "  Label: Hello\n",
      "  Frame\n",
      "    Label: Test\n",
      "\n"
     ]
    }
   ],
   "source": [
    "from ui import *\n",
    "\n",
    "root = Tk()\n",
    "\n",
    "f = UIFrame(root=root)\n",
    "\n",
    "l = UILabel(text=\"Hello\")\n",
    "b = UIButton(l.SetText, data=\"Hello World\", text=\"Change\")\n",
    "\n",
    "f2 = UIFrame()\n",
    "\n",
    "f.Add(b, side=LEFT)\n",
    "f.Add(l, side=LEFT)\n",
    "f.Add(f2, side=LEFT)\n",
    "\n",
    "l2 = UILabel(text=\"Test\")\n",
    "f2 += l2\n",
    "\n",
    "print(str(f))"
   ]
  },
  {
   "cell_type": "code",
   "execution_count": null,
   "metadata": {
    "collapsed": true
   },
   "outputs": [],
   "source": [
    "from ui import *\n",
    "\n",
    "root = Tk()\n",
    "\n",
    "f = UIFrame(root=root)\n",
    "\n",
    "l = UILabel(text=\"Hello\")\n",
    "b = UIButton(l.SetText, data=\"Hello World\", text=\"Change\")\n",
    "\n",
    "f2 = UIFrame()\n",
    "\n",
    "f.Add(b, side=LEFT)\n",
    "f.Add(l, side=LEFT)\n",
    "\n",
    "print(len(f))\n",
    "print(str(f[0]))\n",
    "for i in f:\n",
    "    print(str(i))"
   ]
  }
 ],
 "metadata": {
  "kernelspec": {
   "display_name": "Python 3",
   "language": "python",
   "name": "python3"
  },
  "language_info": {
   "codemirror_mode": {
    "name": "ipython",
    "version": 3
   },
   "file_extension": ".py",
   "mimetype": "text/x-python",
   "name": "python",
   "nbconvert_exporter": "python",
   "pygments_lexer": "ipython3",
   "version": "3.6.1"
  }
 },
 "nbformat": 4,
 "nbformat_minor": 2
}
