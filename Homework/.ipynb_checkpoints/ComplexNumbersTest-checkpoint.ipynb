{
 "cells": [
  {
   "cell_type": "code",
   "execution_count": 2,
   "metadata": {
    "collapsed": true
   },
   "outputs": [],
   "source": [
    "from complexnumbers2 import ComplexNumber\n",
    "\n",
    "c1 = ComplexNumber(1,2)\n",
    "c2 = ComplexNumber(3,4)\n",
    "c3 = [3,5]\n",
    "c4 = c1 * c2\n",
    "c5 = [1,2,3]\n"
   ]
  },
  {
   "cell_type": "code",
   "execution_count": 3,
   "metadata": {},
   "outputs": [
    {
     "name": "stdout",
     "output_type": "stream",
     "text": [
      "1 + 2i\n"
     ]
    }
   ],
   "source": [
    "# __str__\n",
    "print(c1)\n"
   ]
  },
  {
   "cell_type": "code",
   "execution_count": 4,
   "metadata": {},
   "outputs": [
    {
     "name": "stdout",
     "output_type": "stream",
     "text": [
      "4 + 7i\n",
      "4 + 7i\n"
     ]
    }
   ],
   "source": [
    "# __add__ and __radd__\n",
    "print(c1 + c3)\n",
    "print(c3 + c1)"
   ]
  },
  {
   "cell_type": "code",
   "execution_count": 5,
   "metadata": {},
   "outputs": [
    {
     "name": "stdout",
     "output_type": "stream",
     "text": [
      "-2 - 3i\n",
      "-2 - 3i\n"
     ]
    }
   ],
   "source": [
    "# __sub__ and __rsub__\n",
    "print(c1 - c3)\n",
    "print(c3 - c1)"
   ]
  },
  {
   "cell_type": "code",
   "execution_count": 6,
   "metadata": {},
   "outputs": [
    {
     "name": "stdout",
     "output_type": "stream",
     "text": [
      "1 + 2i\n",
      "-5 + 10i\n",
      "1.0 + 2.0i\n",
      "1 + 2i\n"
     ]
    }
   ],
   "source": [
    "# __mul__ and __div__ (truediv, floordiv) and reversed\n",
    "print(c1)\n",
    "print(c4)\n",
    "print(c4/c2)\n",
    "print(c4//c2)"
   ]
  },
  {
   "cell_type": "code",
   "execution_count": 7,
   "metadata": {},
   "outputs": [
    {
     "name": "stdout",
     "output_type": "stream",
     "text": [
      "Error: Operation used on object that is not list or ComplexNumber\n"
     ]
    }
   ],
   "source": [
    "# error handling\n",
    "print(c5 + c1)\n",
    "# print(c1 - c5)\n",
    "# print(c1 * c5)\n",
    "# print(c1/c5)"
   ]
  },
  {
   "cell_type": "code",
   "execution_count": 8,
   "metadata": {},
   "outputs": [
    {
     "name": "stdout",
     "output_type": "stream",
     "text": [
      "1\n",
      "2\n"
     ]
    }
   ],
   "source": [
    "for i in c1:\n",
    "    print(i)"
   ]
  },
  {
   "cell_type": "code",
   "execution_count": 10,
   "metadata": {},
   "outputs": [
    {
     "name": "stdout",
     "output_type": "stream",
     "text": [
      "3 + 2i\n"
     ]
    }
   ],
   "source": [
    "c1[0] = 3\n",
    "c1[1] = 5\n",
    "print(c1)"
   ]
  },
  {
   "cell_type": "code",
   "execution_count": 12,
   "metadata": {},
   "outputs": [
    {
     "name": "stdout",
     "output_type": "stream",
     "text": [
      "1 + 2i\n"
     ]
    }
   ],
   "source": [
    "c1['r'] = 1\n",
    "c1['i'] = 2\n",
    "print(c1)"
   ]
  },
  {
   "cell_type": "code",
   "execution_count": null,
   "metadata": {
    "collapsed": true
   },
   "outputs": [],
   "source": []
  }
 ],
 "metadata": {
  "kernelspec": {
   "display_name": "Python 3",
   "language": "python",
   "name": "python3"
  },
  "language_info": {
   "codemirror_mode": {
    "name": "ipython",
    "version": 3
   },
   "file_extension": ".py",
   "mimetype": "text/x-python",
   "name": "python",
   "nbconvert_exporter": "python",
   "pygments_lexer": "ipython3",
   "version": "3.6.1"
  }
 },
 "nbformat": 4,
 "nbformat_minor": 2
}
